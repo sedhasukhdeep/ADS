{
 "cells": [
  {
   "cell_type": "markdown",
   "metadata": {},
   "source": [
    "## Setting up the API tokens and secret"
   ]
  },
  {
   "cell_type": "markdown",
   "metadata": {},
   "source": [
    "Firstly, I set the API parameters for authentication provided by twitter, and search for tweets by Bill gates and Donald trump by using their twitter handle respectively. "
   ]
  },
  {
   "cell_type": "code",
   "execution_count": 1,
   "metadata": {},
   "outputs": [],
   "source": [
    "import tweepy\n",
    "from tweepy import OAuthHandler\n",
    "import json\n",
    "import pandas as pd\n",
    "from dateutil.parser import parse\n",
    "\n",
    " \n",
    "consumer_key = 'IGu3Yt2U1t2Ft1BXJD5S5r40r'\n",
    "consumer_secret = 'upxVwrxBafcHodxBqvKr4wt0AbX2rcS878kXODHUV23u7ykQSK'\n",
    "access_token = '68697613-tbwR8F0lgZD4R8T8utGCguw5VUXWmwWyNAvWI4CWQ'\n",
    "access_secret = 'ZEq450SB3Lbz94M2arJXr7YtUGhKkAijcOLOr1tlRh2Sb'\n",
    " \n",
    "auth = OAuthHandler(consumer_key, consumer_secret)\n",
    "auth.set_access_token(access_token, access_secret)\n",
    "api = tweepy.API(auth, wait_on_rate_limit=False)\n",
    "tweets = api.user_timeline(\"realDonaldTrump\",count=200)\n",
    "bill_tweets = api.user_timeline(\"BillGates\",count=200)"
   ]
  },
  {
   "cell_type": "markdown",
   "metadata": {},
   "source": [
    "Here I'm dumping the JSON data of tweets to a file. Twitter data is not directly JSON serializable but has a property which can be serialized, so we iterate over the statuses and dump to a JSON file.\n",
    "\n",
    "This file contains series of json objects separated by newline character. This method does not create a json file which can be directly read into the system."
   ]
  },
  {
   "cell_type": "markdown",
   "metadata": {},
   "source": [
    "Inputs from :https://stackoverflow.com/questions/27900451/convert-tweepy-status-object-into-json and tweepy-user-json-prac file"
   ]
  },
  {
   "cell_type": "code",
   "execution_count": 2,
   "metadata": {},
   "outputs": [],
   "source": [
    "import json\n",
    "with open('bill.json', 'w') as outfile:\n",
    "    for tweet in bill_tweets :\n",
    "        json.dump(tweet._json, outfile)\n",
    "        outfile.write('\\n')"
   ]
  },
  {
   "cell_type": "code",
   "execution_count": 3,
   "metadata": {},
   "outputs": [],
   "source": [
    "import json\n",
    "with open('trump.json', 'w') as outfile:\n",
    "    for tweet in tweets:\n",
    "        json.dump(tweet._json, outfile)\n",
    "        outfile.write('\\n')"
   ]
  },
  {
   "cell_type": "markdown",
   "metadata": {},
   "source": [
    "## Extracting required information from tweets"
   ]
  },
  {
   "cell_type": "markdown",
   "metadata": {},
   "source": [
    "Here I am extracting the requird fields for analysis of the tweets and saving it to a pandas dataframe. We are interested in the following fields\n",
    "\n",
    "- Tweet message\n",
    "- created at\n",
    "- retweet count\n",
    "- favourite count\n",
    "- source of tweet\n",
    "- username"
   ]
  },
  {
   "cell_type": "code",
   "execution_count": 4,
   "metadata": {},
   "outputs": [],
   "source": [
    "message,favorite_count,retweet_count,created_at,status_source,user=[],[],[],[],[],[]\n",
    "for tweet in bill_tweets:\n",
    "    \n",
    "    message.append(tweet.text)\n",
    "    favorite_count.append(tweet.favorite_count)\n",
    "    retweet_count.append(tweet.retweet_count)\n",
    "    created_at.append(tweet.created_at)\n",
    "    status_source.append(tweet.source)\n",
    "    user.append(tweet.user.name)\n",
    "    \n",
    "df=pd.DataFrame({'Message':message,\n",
    "                'Favourite Count':favorite_count,\n",
    "                'Retweet Count':retweet_count,\n",
    "                'Created At':created_at,\n",
    "                'Source':status_source,\n",
    "                 'Username':user})\n",
    "                 "
   ]
  },
  {
   "cell_type": "code",
   "execution_count": 5,
   "metadata": {},
   "outputs": [],
   "source": [
    "message,favorite_count,retweet_count,created_at,status_source,user=[],[],[],[],[],[]\n",
    "for tweet in tweets:\n",
    "    \n",
    "    message.append(tweet.text)\n",
    "    favorite_count.append(tweet.favorite_count)\n",
    "    retweet_count.append(tweet.retweet_count)\n",
    "    created_at.append(tweet.created_at)\n",
    "    status_source.append(tweet.source)\n",
    "    user.append(tweet.user.name)\n",
    "    \n",
    "df2=pd.DataFrame({'Message':message,\n",
    "                'Favourite Count':favorite_count,\n",
    "                'Retweet Count':retweet_count,\n",
    "                'Created At':created_at,\n",
    "                'Source':status_source,\n",
    "                 'Username':user})\n",
    "                 \n",
    "\n",
    "\n",
    "pd.concat((df,df2),axis=0).to_csv(\"All_tweets.csv\")\n"
   ]
  },
  {
   "cell_type": "markdown",
   "metadata": {},
   "source": [
    "## Analyzing the tweets by hour of day"
   ]
  },
  {
   "cell_type": "markdown",
   "metadata": {},
   "source": [
    "Task is to compare the tweets by two users by what hour of the day it was created. So we have to parse twitter timestamp into python datetime object and get the hour from it.\n",
    "\n",
    "In order to do this, I first coerce the timestamp column ('created at') to string since it cannot be parsed by python otherwise.\n",
    "\n",
    "Then I proceed to pass the column through the function hour_myjob which returns hour from the string.\n",
    "\n",
    "Finally I add all the retrieved hours as a column to the original dataframe for plotting."
   ]
  },
  {
   "cell_type": "code",
   "execution_count": 6,
   "metadata": {},
   "outputs": [],
   "source": [
    "from datetime import datetime\n",
    "\n",
    "#This function takes a column as an input\n",
    "#and iterates over the elements to parse the timestamp and returns the hour from the parsed datetime object\n",
    "\n",
    "def hour_myjob(column):\n",
    "    hour = []        #initializing a list to hold the values of all the hours\n",
    "    for i in range(len(column)): #loops over the column length (twitter api sometimes gives more or less results than specified in count)\n",
    "        datetimeObj = parse(column[i]) #using the parser from dateutil.parser we obtain the hour from the given timestamp\n",
    "        hour.append(datetimeObj.hour) #all the results are appended and a list is returned\n",
    "    \n",
    "\n",
    "    return hour"
   ]
  },
  {
   "cell_type": "code",
   "execution_count": 7,
   "metadata": {},
   "outputs": [],
   "source": [
    "df['Created At']=df['Created At'].astype(str) #coercing datatype before passing\n",
    "df2['Created At']=df2['Created At'].astype(str)"
   ]
  },
  {
   "cell_type": "code",
   "execution_count": 8,
   "metadata": {},
   "outputs": [],
   "source": [
    "hour_1 = hour_myjob(df['Created At']) \n",
    "hour_2 = hour_myjob(df2['Created At'])"
   ]
  },
  {
   "cell_type": "code",
   "execution_count": 9,
   "metadata": {},
   "outputs": [],
   "source": [
    "df['Hour']=hour_1 #adding a new column to dataframe, which now has hour of the day for all the tweets\n",
    "df2['Hour']=hour_2"
   ]
  },
  {
   "cell_type": "code",
   "execution_count": 10,
   "metadata": {},
   "outputs": [],
   "source": [
    "dict_1=(df['Hour'].value_counts()/200)*100\n",
    "lists=sorted(dict_1.items())  #calculating the proportion and storing results to a dictionary, this sorts the dictionary in ascending order of key"
   ]
  },
  {
   "cell_type": "code",
   "execution_count": 11,
   "metadata": {},
   "outputs": [],
   "source": [
    "dict_2=(df2['Hour'].value_counts()/200)*100\n",
    "lists_2=sorted(dict_2.items())"
   ]
  },
  {
   "cell_type": "markdown",
   "metadata": {},
   "source": [
    "Plotting the tweets by hour"
   ]
  },
  {
   "cell_type": "code",
   "execution_count": 42,
   "metadata": {},
   "outputs": [
    {
     "data": {
      "image/png": "[encoded data removed]",
      "text/plain": [
       "<Figure size 720x720 with 1 Axes>"
      ]
     },
     "metadata": {
      "needs_background": "light"
     },
     "output_type": "display_data"
    }
   ],
   "source": [
    "#This cell needs to be run twice for the figure to show\n",
    "\n",
    "import matplotlib.pyplot as plt\n",
    "import numpy as np\n",
    "from pylab import rcParams\n",
    "rcParams['figure.figsize'] = 10, 10 \n",
    "\n",
    "x,y = zip(*lists) #unpacking into two lists for plotting purpose\n",
    "p,q = zip(*lists_2)\n",
    "\n",
    "plt.plot(x,y,'r--',label='Bill gates')\n",
    "plt.plot(p,q,label='Donald Trump')\n",
    "plt.xlabel(\"Hour of the day\")\n",
    "plt.ylabel(\"% of tweets\")\n",
    "plt.legend(loc='upper right')\n",
    "plt.show()"
   ]
  },
  {
   "cell_type": "markdown",
   "metadata": {},
   "source": [
    "## Counting the number of links in tweets"
   ]
  },
  {
   "cell_type": "markdown",
   "metadata": {},
   "source": [
    "Here we count the tweets which have a link by finding the substring \"t.co\" in the message. If a tweet has more than 1 link, we still take it as one for the sake of comparison (treat it like a test for presence of hyperlink instead of counting the occurences)"
   ]
  },
  {
   "cell_type": "code",
   "execution_count": 13,
   "metadata": {},
   "outputs": [],
   "source": [
    "#This function takes a columnn as an input\n",
    "#and finds the occurences of a substring \"t.co\" \n",
    "\n",
    "def count_links(message):\n",
    "    number_of_links=[] #initializing a list to store all the results\n",
    "    count=0 #this the boolean counter for checking links in tweets\n",
    "    for i in range(len(message)): #interating over the lengeth of column and using string function \"count\" to find \"t.co\"\n",
    "        \n",
    "        count = message[i].count(\"t.co\")\n",
    "        \n",
    "        if count>1: #We only need yes or no result not the actual count\n",
    "            count=1\n",
    "        \n",
    "        number_of_links.append(count) #appending results to the list which is returned by the function\n",
    "     \n",
    "\n",
    "    return number_of_links\n",
    "    "
   ]
  },
  {
   "cell_type": "code",
   "execution_count": 14,
   "metadata": {},
   "outputs": [
    {
     "name": "stdout",
     "output_type": "stream",
     "text": [
      "Bill gates: Tweets with link  194 | Bill gates: Tweets with no link  6\n"
     ]
    }
   ],
   "source": [
    "bill_tweets_with_link = sum(count_links(df['Message']))\n",
    "bill_tweets_nolink = len(df['Message'])-bill_tweets_with_link \n",
    "\n",
    "print(\"Bill gates: Tweets with link \",bill_tweets_with_link, \"| Bill gates: Tweets with no link \",bill_tweets_nolink )"
   ]
  },
  {
   "cell_type": "code",
   "execution_count": 15,
   "metadata": {},
   "outputs": [
    {
     "name": "stdout",
     "output_type": "stream",
     "text": [
      "Donald trump: Tweets with link  123 | Donald trump: Tweets with no link  76\n"
     ]
    }
   ],
   "source": [
    "trump_tweets_with_link = sum(count_links(df2['Message']))\n",
    "trump_tweets_nolink = len(df2['Message'])-trump_tweets_with_link\n",
    "\n",
    "print(\"Donald trump: Tweets with link \",trump_tweets_with_link, \"| Donald trump: Tweets with no link \",trump_tweets_nolink)"
   ]
  },
  {
   "cell_type": "markdown",
   "metadata": {},
   "source": [
    "## Plotting a clustered bar-graph for comparison"
   ]
  },
  {
   "cell_type": "markdown",
   "metadata": {},
   "source": [
    "Here I want to visualize the results to see the difference in tweeting characteristics of the two users"
   ]
  },
  {
   "cell_type": "markdown",
   "metadata": {},
   "source": [
    "Inputs from:https://matplotlib.org/examples/api/barchart_demo.html"
   ]
  },
  {
   "cell_type": "code",
   "execution_count": 43,
   "metadata": {},
   "outputs": [
    {
     "data": {
      "image/png": "[encoded data removed]",
      "text/plain": [
       "<Figure size 720x720 with 1 Axes>"
      ]
     },
     "metadata": {
      "needs_background": "light"
     },
     "output_type": "display_data"
    }
   ],
   "source": [
    "#This cell needs to be run twice for the figure to show\n",
    "\n",
    "import matplotlib\n",
    "import matplotlib.pyplot as plt\n",
    "import numpy as np\n",
    "\n",
    "labels = ['With Hyperlinks or Images', 'Without hyperinks or Images']\n",
    "bill_list = [194,6]\n",
    "trump_list = [146,54]\n",
    "\n",
    "x = np.arange(len(labels))  # the label locations\n",
    "width = 0.35  # the width of the bars\n",
    "\n",
    "fig, ax = plt.subplots()\n",
    "rects1 = ax.bar(x - width/2, bill_list, width, label='Bill')\n",
    "rects2 = ax.bar(x + width/2, trump_list, width, label='Trump')\n",
    "\n",
    "# Add some text for labels, title and custom x-axis tick labels, etc.\n",
    "ax.set_ylabel('Tweets')\n",
    "ax.set_title('Tweets by grouped by users and presence of hyperlink/image')\n",
    "ax.set_xticks(x)\n",
    "ax.set_xticklabels(labels)\n",
    "ax.legend()\n",
    "\n",
    "\n",
    "def autolabel(rects):\n",
    "    \"\"\"Attach a text label above each bar in *rects*, displaying its height.\"\"\"\n",
    "    for rect in rects:\n",
    "        height = rect.get_height()\n",
    "        ax.annotate('{}'.format(height),\n",
    "                    xy=(rect.get_x() + rect.get_width() / 2, height),\n",
    "                    xytext=(0, 3),  # 3 points vertical offset\n",
    "                    textcoords=\"offset points\",\n",
    "                    ha='center', va='bottom')\n",
    "\n",
    "\n",
    "autolabel(rects1)\n",
    "autolabel(rects2)\n",
    "\n",
    "fig.tight_layout()\n",
    "\n",
    "plt.show()"
   ]
  },
  {
   "cell_type": "markdown",
   "metadata": {},
   "source": [
    "Looks like bill gates favours his tweets with a link, whereas Donald trump has a slightly less tedency to do so. with sizable number of tweets posted without any hyperlink we can see the difference in their tweeting pattern"
   ]
  },
  {
   "cell_type": "markdown",
   "metadata": {},
   "source": [
    "## Distribution of hastags in tweets"
   ]
  },
  {
   "cell_type": "code",
   "execution_count": 17,
   "metadata": {},
   "outputs": [],
   "source": [
    "df['Message']=df['Message'].astype('str')\n",
    "df2['Message']=df2['Message'].astype('str')"
   ]
  },
  {
   "cell_type": "code",
   "execution_count": 18,
   "metadata": {},
   "outputs": [],
   "source": [
    "#This function takes a column as an input and returns a list with counts of the hashtags in each tweet\n",
    "\n",
    "def hash_myjob(message):\n",
    "    number_of_hashtags=[] #Initializing a list to hold all the results of counts\n",
    "    for i in range(len(message)): #iterating over the length of the column and using string function \"count\"\n",
    "        \n",
    "        count = message[i].count(\"#\")\n",
    "        \n",
    "        number_of_hashtags.append(count) #appending the results to the list\n",
    "     \n",
    "\n",
    "    return number_of_hashtags"
   ]
  },
  {
   "cell_type": "code",
   "execution_count": 19,
   "metadata": {},
   "outputs": [],
   "source": [
    "number_of_hashtags_bill = hash_myjob(df['Message'])\n",
    "number_of_hashtags_trump= hash_myjob(df2['Message'])"
   ]
  },
  {
   "cell_type": "markdown",
   "metadata": {},
   "source": [
    "## Plotting the histogram for hashtags: Bill gates"
   ]
  },
  {
   "cell_type": "code",
   "execution_count": 44,
   "metadata": {},
   "outputs": [
    {
     "data": {
      "text/plain": [
       "Text(0.5, 1.0, 'Distribution of hashtags for Bill gates')"
      ]
     },
     "execution_count": 44,
     "metadata": {},
     "output_type": "execute_result"
    },
    {
     "data": {
      "image/png": "[encoded data removed]",
      "text/plain": [
       "<Figure size 720x720 with 1 Axes>"
      ]
     },
     "metadata": {
      "needs_background": "light"
     },
     "output_type": "display_data"
    }
   ],
   "source": [
    "#This cell needs to run twice for the figure to show correctly\n",
    "\n",
    "plt.hist(number_of_hashtags_bill,label='Bill gates',color='red')\n",
    "plt.xlabel(\"Number of Hashtags in a tweet\")\n",
    "plt.ylabel(\"Number of tweets\")\n",
    "plt.title(\"Distribution of hashtags for Bill gates\")"
   ]
  },
  {
   "cell_type": "markdown",
   "metadata": {},
   "source": [
    "## Plotting the histogram of hashtags: Donald trump"
   ]
  },
  {
   "cell_type": "code",
   "execution_count": 45,
   "metadata": {},
   "outputs": [
    {
     "data": {
      "text/plain": [
       "Text(0.5, 1.0, 'Distribution of hashtags for Donald trump')"
      ]
     },
     "execution_count": 45,
     "metadata": {},
     "output_type": "execute_result"
    },
    {
     "data": {
      "image/png": "[encoded data removed]",
      "text/plain": [
       "<Figure size 720x720 with 1 Axes>"
      ]
     },
     "metadata": {
      "needs_background": "light"
     },
     "output_type": "display_data"
    }
   ],
   "source": [
    "#This cell needs to be run twice in order to show correctly\n",
    "\n",
    "plt.hist(number_of_hashtags_trump, label='Donald trump')\n",
    "plt.xlabel(\"Number of Hashtags in a tweet\")\n",
    "plt.ylabel(\"Number of tweets\")\n",
    "plt.title(\"Distribution of hashtags for Donald trump\")"
   ]
  },
  {
   "cell_type": "markdown",
   "metadata": {},
   "source": [
    "## Logs odd ratio: Finding words most associated with user"
   ]
  },
  {
   "cell_type": "markdown",
   "metadata": {},
   "source": [
    "Involved cleaning process is cleaning the tweets, removing the links, tokenizing, removing puntuation, removing stop words"
   ]
  },
  {
   "cell_type": "code",
   "execution_count": 22,
   "metadata": {},
   "outputs": [],
   "source": [
    "#This function takes a column as input and returns a string\n",
    "#This combines all the tweets to a string, removes all the hyperlinks\n",
    "\n",
    "def single_sentence(column): \n",
    "    import re\n",
    "    my_str = \" \" #Initializing the empty string to hold all the output\n",
    "    for i in range(len(column)): #Iterating over the length\n",
    "        my_str= my_str + column[i]\n",
    "    my_str=re.sub(\"https://t.co/[A-Za-z\\\\d]+|&amp;\",\" \",my_str)\n",
    "    return my_str"
   ]
  },
  {
   "cell_type": "markdown",
   "metadata": {},
   "source": [
    "inputs from: https://machinelearningmastery.com/clean-text-machine-learning-python/"
   ]
  },
  {
   "cell_type": "code",
   "execution_count": 23,
   "metadata": {},
   "outputs": [],
   "source": [
    "#This function takes a string and performs various cleaning operations\n",
    "#tokenization,convert to lower case, removing punctuations, removing non alphabetic tokens, removing stopwords and then returns a list\n",
    "\n",
    "def clean_Words(text):\n",
    "\n",
    "    words = []\n",
    "    import nltk\n",
    "    from nltk.tokenize import word_tokenize\n",
    "    tokens = word_tokenize(text)\n",
    "    # convert to lower case\n",
    "    tokens = [w.lower() for w in tokens]\n",
    "    # remove punctuation from each word\n",
    "    import string\n",
    "    table = str.maketrans('', '', string.punctuation)\n",
    "    stripped = [w.translate(table) for w in tokens]\n",
    "    # remove remaining tokens that are not alphabetic\n",
    "    words = [word for word in stripped if word.isalpha()]\n",
    "    # filter out stop words\n",
    "    from nltk.corpus import stopwords\n",
    "    stop_words = set(stopwords.words('english'))\n",
    "    words = [w for w in words if not w in stop_words]\n",
    "    \n",
    "    \n",
    "    return words"
   ]
  },
  {
   "cell_type": "code",
   "execution_count": 24,
   "metadata": {},
   "outputs": [],
   "source": [
    "text=single_sentence(df['Message'])\n",
    "text_2=single_sentence(df2['Message'])\n",
    "\n",
    "words_bill = clean_Words(text)\n",
    "words_trump = clean_Words(text_2)"
   ]
  },
  {
   "cell_type": "markdown",
   "metadata": {},
   "source": [
    "Dictionary of words and number of occurences"
   ]
  },
  {
   "cell_type": "code",
   "execution_count": 25,
   "metadata": {},
   "outputs": [],
   "source": [
    "#This is used convert the list of clean words obtained above and get the counts for each word\n",
    "\n",
    "from collections import Counter\n",
    "a1 = Counter(words_bill)  #This returns a dictionary\n",
    "\n",
    "a2 = Counter(words_trump)"
   ]
  },
  {
   "cell_type": "code",
   "execution_count": 26,
   "metadata": {},
   "outputs": [
    {
     "name": "stdout",
     "output_type": "stream",
     "text": [
      "world 30\n",
      "one 25\n",
      "change 21\n",
      "people 19\n",
      "climate 17\n",
      "year 11\n",
      "years 11\n",
      "malaria 10\n",
      "book 10\n",
      "help 10\n",
      "fight 10\n",
      "health 9\n",
      "excited 9\n",
      "see 9\n",
      "life 9\n",
      "work 9\n",
      "new 9\n",
      "progress 8\n",
      "need 7\n",
      "globalfund 7\n"
     ]
    }
   ],
   "source": [
    "a1_sorted_keys = sorted(a1, key=a1.get, reverse=True) #Sorting the dictionary by most frequently  used words\n",
    "for r in a1_sorted_keys[:20]:\n",
    "    print(r, a1[r])"
   ]
  },
  {
   "cell_type": "code",
   "execution_count": 27,
   "metadata": {},
   "outputs": [
    {
     "name": "stdout",
     "output_type": "stream",
     "text": [
      "realdonaldtrump 26\n",
      "schiff 24\n",
      "adam 18\n",
      "democrats 17\n",
      "president 15\n",
      "impeachment 15\n",
      "pelosi 13\n",
      "american 13\n",
      "great 12\n",
      "would 11\n",
      "trump 9\n",
      "inquiry 9\n",
      "gopchairwoman 9\n",
      "censure 8\n",
      "house 8\n",
      "republicans 8\n",
      "thank 8\n",
      "texas 8\n",
      "vote 7\n",
      "people 7\n"
     ]
    }
   ],
   "source": [
    "a2_sorted_keys = sorted(a2, key=a2.get, reverse=True)\n",
    "for r in a2_sorted_keys[:20]:\n",
    "    print(r, a2[r])"
   ]
  },
  {
   "cell_type": "markdown",
   "metadata": {},
   "source": [
    "Calculating the logs odds ratio for both the users and printing 20 most strongly associated words with the respective user"
   ]
  },
  {
   "cell_type": "code",
   "execution_count": 28,
   "metadata": {},
   "outputs": [],
   "source": [
    "odds_ratio = {} #initializing a new dictinary to hold the results\n",
    "for i in a1_sorted_keys: #iterating over the keys of dictionary\n",
    "    count1 = a1[i]       #getting the count for word from first user's dictionary\n",
    "    \n",
    "    try:\n",
    "        count2=a2[i]     #Exception handling is required here because the words may not common, i.e. the second user's dictionary may not contain the same word\n",
    "                         #In that case, we set the count2=0\n",
    "    except:\n",
    "        \n",
    "        count2=0\n",
    "    \n",
    "    odds_ratio[i]=(np.log2((count1+1/len(words_bill)+1)/(count2+1/len(words_trump)+1))) #dividing the counts by number of all the words by that user"
   ]
  },
  {
   "cell_type": "markdown",
   "metadata": {},
   "source": [
    "Words associated with Bill gates:"
   ]
  },
  {
   "cell_type": "code",
   "execution_count": 29,
   "metadata": {},
   "outputs": [
    {
     "name": "stdout",
     "output_type": "stream",
     "text": [
      "world 4.953308489555835\n",
      "change 4.458554493357952\n",
      "climate 4.169056062827974\n",
      "malaria 3.4585913329846507\n",
      "health 3.3210951770471717\n",
      "excited 3.3210951770471717\n",
      "life 3.3210951770471717\n",
      "progress 3.169101088655136\n",
      "need 2.99918734345005\n",
      "globalfund 2.99918734345005\n",
      "possible 2.99918734345005\n",
      "recently 2.99918734345005\n",
      "commitment 2.99918734345005\n",
      "incredible 2.99918734345005\n",
      "alzheimer 2.99918734345005\n",
      "optimistic 2.8065567376836125\n",
      "really 2.8065567376836125\n",
      "leadership 2.8065567376836125\n",
      "remarkable 2.8065567376836125\n",
      "learned 2.8065567376836125\n"
     ]
    }
   ],
   "source": [
    "a1_sorted_keys = sorted(odds_ratio, key=odds_ratio.get, reverse=True) #Sorting the results dictionary by value\n",
    "for r in a1_sorted_keys[:20]:\n",
    "    print(r, odds_ratio[r])"
   ]
  },
  {
   "cell_type": "code",
   "execution_count": 30,
   "metadata": {},
   "outputs": [],
   "source": [
    "count2=0 #resetting the counts as these variables were used previously\n",
    "count1=0\n",
    "odds_ratio_trump = {} #initializing a dictionary to hold the results\n",
    "for i in a2_sorted_keys: #iterating over second user's dictionary\n",
    "    count1 = a2[i] #swapped count1 value to take the number of counts from second dictionary\n",
    "    \n",
    "    try:\n",
    "        count2=a1[i]\n",
    "\n",
    "    \n",
    "    except:\n",
    "        \n",
    "        count2=0\n",
    "    \n",
    "    odds_ratio_trump[i]=(np.log2((count1+1/len(words_trump)+1)/(count2+1/len(words_bill)+1)))"
   ]
  },
  {
   "cell_type": "markdown",
   "metadata": {},
   "source": [
    "Words associated with Donald trump:"
   ]
  },
  {
   "cell_type": "code",
   "execution_count": 31,
   "metadata": {
    "scrolled": true
   },
   "outputs": [
    {
     "name": "stdout",
     "output_type": "stream",
     "text": [
      "realdonaldtrump 4.754111087829812\n",
      "schiff 4.643082484279872\n",
      "adam 4.247165356099204\n",
      "democrats 4.169165517267736\n",
      "impeachment 3.9992468645838573\n",
      "pelosi 3.806609949289824\n",
      "american 3.806609949289824\n",
      "trump 3.3212092422839934\n",
      "inquiry 3.3212092422839934\n",
      "gopchairwoman 3.3212092422839934\n",
      "censure 3.1692163065529457\n",
      "house 3.1692163065529457\n",
      "republicans 3.1692163065529457\n",
      "thank 3.1692163065529457\n",
      "texas 3.1692163065529457\n",
      "president 2.999651945322413\n",
      "vote 2.9993040021525643\n",
      "congress 2.9993040021525643\n",
      "party 2.8066752488141695\n",
      "syria 2.8066752488141695\n"
     ]
    }
   ],
   "source": [
    "a2_sorted_keys = sorted(odds_ratio_trump, key=odds_ratio_trump.get, reverse=True) #sorting the results dictionary\n",
    "for r in a2_sorted_keys[:20]:\n",
    "    print(r, odds_ratio_trump[r])"
   ]
  },
  {
   "cell_type": "markdown",
   "metadata": {},
   "source": [
    "## Sentiment analysis"
   ]
  },
  {
   "cell_type": "code",
   "execution_count": 32,
   "metadata": {},
   "outputs": [
    {
     "name": "stdout",
     "output_type": "stream",
     "text": [
      "Requirement already satisfied: vaderSentiment in /home/sukhdeep/anaconda3/lib/python3.7/site-packages (3.2.1)\r\n"
     ]
    }
   ],
   "source": [
    "!pip install vaderSentiment"
   ]
  },
  {
   "cell_type": "code",
   "execution_count": 33,
   "metadata": {},
   "outputs": [],
   "source": [
    "import nltk\n",
    "from vaderSentiment.vaderSentiment import SentimentIntensityAnalyzer\n",
    "analyzer = SentimentIntensityAnalyzer()"
   ]
  },
  {
   "cell_type": "code",
   "execution_count": 34,
   "metadata": {},
   "outputs": [
    {
     "name": "stdout",
     "output_type": "stream",
     "text": [
      "Malnutrition is the single greatest health inequity in the world. In its 2019 State of the World’s Children report,… https://t.co/G8Cm5kgeGX {'neg': 0.0, 'neu': 0.819, 'pos': 0.181, 'compound': 0.6369}\n",
      "The world’s poorest people often rely on farming both to feed their families and to earn an income. They will be am… https://t.co/fZJCCR6Bhc {'neg': 0.137, 'neu': 0.863, 'pos': 0.0, 'compound': -0.5423}\n",
      "Congrats to Esther Duflo, Abhijit Banerjee, and Michael Kremer for winning this year’s @NobelPrize in economics. I’… https://t.co/CF8prB94QM {'neg': 0.0, 'neu': 0.702, 'pos': 0.298, 'compound': 0.7783}\n",
      "The world is facing a crisis at the dinner table, one that climate change will only worsen. I’m optimistic about th… https://t.co/HToIC1QgCa {'neg': 0.267, 'neu': 0.65, 'pos': 0.083, 'compound': -0.7269}\n",
      "The odds of dying of AIDS in South Africa are less than half what they were at the peak. That progress wouldn’t hav… https://t.co/XLVdgygAa5 {'neg': 0.0, 'neu': 0.891, 'pos': 0.109, 'compound': 0.4215}\n",
      "We need more approaches to stopping #Alzheimers disease. I’m excited to see this news out of @DZNE_de and… https://t.co/fn4C8Kl8L2 {'neg': 0.088, 'neu': 0.799, 'pos': 0.113, 'compound': 0.1372}\n",
      "I’m impressed by the international cooperation that made this year’s @GlobalFund Replenishment round possible. The… https://t.co/LUoafmyCbc {'neg': 0.0, 'neu': 0.829, 'pos': 0.171, 'compound': 0.4767}\n",
      "I can’t think of a more fitting tribute to Hans Rosling and his life’s work. Hans was a dear friend to Melinda and… https://t.co/JTnyGS5Z8A {'neg': 0.0, 'neu': 0.766, 'pos': 0.234, 'compound': 0.7003}\n",
      "I’m in Lyon, France for the @GlobalFund’s replenishment – celebrating the most money ever raised for their life-sav… https://t.co/d0Md6l05i0 {'neg': 0.0, 'neu': 0.821, 'pos': 0.179, 'compound': 0.5719}\n",
      "In Afghanistan, one of the last countries with polio, vaccine acceptance rates have reached 98% thanks to the tirel… https://t.co/OcaTByMNM6 {'neg': 0.0, 'neu': 0.7, 'pos': 0.3, 'compound': 0.743}\n",
      "If all countries in the world had the same concentration of researchers as wealthy ones, there would be 3x as many… https://t.co/zxBRlgRSlR {'neg': 0.0, 'neu': 0.894, 'pos': 0.106, 'compound': 0.3612}\n",
      "Malnutrition is the greatest health inequity in the world. I recently spoke with my friend @AlikoDangote about how… https://t.co/0LtsJfUnFz {'neg': 0.0, 'neu': 0.684, 'pos': 0.316, 'compound': 0.8126}\n",
      "I’m lucky to have known Stephen Hawking — and he was as exceptional in person as you imagined he was. As remarkable… https://t.co/j1EVES5fLd {'neg': 0.0, 'neu': 0.882, 'pos': 0.118, 'compound': 0.4215}\n",
      "Here is the story of the day I knew what I wanted to do for the rest of my life and the influence of someone who’s… https://t.co/VtGpxWC21T {'neg': 0.0, 'neu': 1.0, 'pos': 0.0, 'compound': 0.0}\n",
      "@TheEconomist is right: climate change touches everything and everyone -- and, unfairly, the poor and marginalized… https://t.co/TnIazabKhE {'neg': 0.162, 'neu': 0.838, 'pos': 0.0, 'compound': -0.4767}\n",
      "Melinda's work on behalf of women and girls around the world inspires me every day. She's committing $1 billion ove… https://t.co/UVVDrrG0zb {'neg': 0.0, 'neu': 0.819, 'pos': 0.181, 'compound': 0.4939}\n",
      "I’m delighted that @erna_solberg has re-upped Norway’s commitment to support the work of the @GlobalFund. I welcome… https://t.co/uCRJilyhqG {'neg': 0.0, 'neu': 0.619, 'pos': 0.381, 'compound': 0.8225}\n",
      "Most people know @AlikoDangote as Africa’s wealthiest man, but I know him as one of our foundation’s most impactful… https://t.co/3koaqsTDm3 {'neg': 0.0, 'neu': 0.896, 'pos': 0.104, 'compound': 0.2732}\n",
      "More and more children are living to see their 5th birthdays. That’s because the world has made incredible progress… https://t.co/9p7FLKkWln {'neg': 0.0, 'neu': 1.0, 'pos': 0.0, 'compound': 0.0}\n",
      "It's really incredible how much time and effort goes into producing a documentary like the new @netflix series I pa… https://t.co/4y8RA9OIXI {'neg': 0.0, 'neu': 0.878, 'pos': 0.122, 'compound': 0.3612}\n",
      "Ending poverty and achieving the SDGs requires a whole-of-government approach. @ImranKhanPTI and @SaniaNishtar have… https://t.co/5uJqH2dAg3 {'neg': 0.202, 'neu': 0.798, 'pos': 0.0, 'compound': -0.5106}\n",
      ".@sanchezcastejon’s commitment to the @GlobalFund reflects Spain’s leadership. At a time when more countries are tu… https://t.co/HVAhJ0W2D7 {'neg': 0.0, 'neu': 0.852, 'pos': 0.148, 'compound': 0.3818}\n",
      "RT @gatesfoundation: The third annual #Goalkeepers19 event brings together a new generation of changemakers to accelerate progress toward t… {'neg': 0.0, 'neu': 0.859, 'pos': 0.141, 'compound': 0.4215}\n",
      "Sanitation is a difficult issue to take on because there are no easy solutions. Tonight we recognized the progress… https://t.co/7937pJPIuM {'neg': 0.193, 'neu': 0.617, 'pos': 0.189, 'compound': -0.0258}\n",
      "I had the privilege of meeting @DrElvisEze at last year’s Malaria Summit in London, and I was struck by his optimis… https://t.co/Dvga2AmA9M {'neg': 0.089, 'neu': 0.8, 'pos': 0.111, 'compound': 0.128}\n",
      "I’m excited to see world leaders and climate advocates coming together to make progress at the UNGA #ClimateAction… https://t.co/SxhUl3rArw {'neg': 0.0, 'neu': 0.766, 'pos': 0.234, 'compound': 0.6369}\n",
      "I’ve always loved playing tennis. Maybe this is why. See more deleted scenes from the @netflix series about my life… https://t.co/s6TZeRa8ot {'neg': 0.0, 'neu': 0.769, 'pos': 0.231, 'compound': 0.6908}\n",
      "I am hopeful that we can substantially alter the course of Alzheimer’s disease. This World Alzheimer’s Day, join me… https://t.co/00Em1RetgG {'neg': 0.0, 'neu': 0.756, 'pos': 0.244, 'compound': 0.6705}\n",
      "The docuseries about my life and work is out today. I hope you’ll check it out on @netflix — and then read some of… https://t.co/Z3AJvdukhw {'neg': 0.0, 'neu': 0.884, 'pos': 0.116, 'compound': 0.4404}\n",
      "Adapting to climate change requires support from governments and businesses to ensure those most at risk have the o… https://t.co/wA7SJcgkRr {'neg': 0.096, 'neu': 0.689, 'pos': 0.215, 'compound': 0.4445}\n",
      "The new docuseries that looks at my work is out tomorrow. I hope you check it out on @netflix. I can’t wait to hear… https://t.co/7sQck1yy3X {'neg': 0.0, 'neu': 0.884, 'pos': 0.116, 'compound': 0.4404}\n",
      "As governments invest more in primary health care systems, overall health outcomes improve. Here’s how:… https://t.co/PAQuourGXa {'neg': 0.0, 'neu': 0.697, 'pos': 0.303, 'compound': 0.7269}\n",
      "Melinda and I started out ahead. But hundreds of millions of people around the world have to overcome hurdle after… https://t.co/0mhCkpjSof {'neg': 0.0, 'neu': 1.0, 'pos': 0.0, 'compound': 0.0}\n",
      "Health and education are improving everywhere in the world. But the gap between countries’ progress can be enormous… https://t.co/QDp81vaLMv {'neg': 0.0, 'neu': 0.752, 'pos': 0.248, 'compound': 0.6808}\n",
      "The Lasker-Bloomberg Public Service Award is a well-deserved recognition of @gavi's life-saving work. Congratulatio… https://t.co/5gxMmN0HRv {'neg': 0.0, 'neu': 0.788, 'pos': 0.212, 'compound': 0.5423}\n",
      "Congratulations @BradSmi and @CarolAnnBrowne! Your insights have never been more relevant, and I am glad others wil… https://t.co/ZbLg0ECuYf {'neg': 0.0, 'neu': 0.676, 'pos': 0.324, 'compound': 0.8016}\n",
      "Today, it’s difficult for researchers to diagnose #Alzheimers patients early enough to intervene. A reliable, easy… https://t.co/uYqtjWZEav {'neg': 0.143, 'neu': 0.857, 'pos': 0.0, 'compound': -0.3612}\n",
      "Here’s a remarkable statistic: Nearly 1.1 billion fewer people are living in extreme poverty today than in 1990.  B… https://t.co/f9vpmYNYXC {'neg': 0.138, 'neu': 0.711, 'pos': 0.151, 'compound': 0.0772}\n",
      "The fact that a quarter of the kids born on the planet don’t get the right food to develop is a mind-blowing traged… https://t.co/FRuCNA0qV5 {'neg': 0.0, 'neu': 1.0, 'pos': 0.0, 'compound': 0.0}\n",
      "Climate change is one of the toughest challenges facing the world. But don’t despair…\n",
      "\n",
      "Scientists and entrepreneurs… https://t.co/eOXr1S97hr {'neg': 0.063, 'neu': 0.874, 'pos': 0.063, 'compound': 0.0}\n",
      "Manufacturing steel is one of the largest sources of greenhouse gas emissions. Boston Metal is working to change th… https://t.co/Xf9uzGmZnY {'neg': 0.0, 'neu': 1.0, 'pos': 0.0, 'compound': 0.0}\n",
      "Tuberculosis is still the leading infectious cause of death worldwide. To #EndTB, we need to continue to develop sa… https://t.co/KnOwQmn5fi {'neg': 0.17, 'neu': 0.83, 'pos': 0.0, 'compound': -0.5994}\n",
      "Whenever I hear an idea for what we can do to keep global warming in check, I always ask this question: “What’s you… https://t.co/68GxhslFhN {'neg': 0.0, 'neu': 0.929, 'pos': 0.071, 'compound': 0.1531}\n",
      "Germany, Italy, and the European Commission have demonstrated great leadership with their commitments to the… https://t.co/JXmHiW8ypO {'neg': 0.0, 'neu': 0.714, 'pos': 0.286, 'compound': 0.6808}\n",
      "When I think about the world I want for my children, I know that #EqualityCantWait. When women and men can reach th… https://t.co/o93xxXaNlt {'neg': 0.0, 'neu': 0.882, 'pos': 0.118, 'compound': 0.1027}\n",
      "Canada’s $930 million commitment to the @GlobalFund is a big step towards saving millions of lives. Their pledge, a… https://t.co/nVgzlrU5Wa {'neg': 0.0, 'neu': 0.874, 'pos': 0.126, 'compound': 0.3818}\n",
      "If we want to give our kids the best chance possible to succeed after high school, we need more teachers like… https://t.co/YNxA4ZyUgm {'neg': 0.0, 'neu': 0.627, 'pos': 0.373, 'compound': 0.8658}\n",
      "Today marks three years since Nigeria's last wild poliovirus case. This progress wouldn’t have been possible withou… https://t.co/syaeFcPLJd {'neg': 0.0, 'neu': 0.84, 'pos': 0.16, 'compound': 0.5023}\n",
      "Tomorrow is #WorldMosquitoDay, when we recognize all of our partners and grantees who are fighting against the worl… https://t.co/Gtqs9x2k2l {'neg': 0.122, 'neu': 0.878, 'pos': 0.0, 'compound': -0.3612}\n",
      "I never really learned how to cook. I’m finally learning my way around the kitchen, though, thanks to Robert Hand:… https://t.co/pOpW7x5tAX {'neg': 0.0, 'neu': 0.868, 'pos': 0.132, 'compound': 0.4404}\n",
      "Four billion people are at risk from mosquito-borne diseases. We can get that number down to zero if we invest in n… https://t.co/a0CAhBgYR0 {'neg': 0.086, 'neu': 0.861, 'pos': 0.053, 'compound': -0.2023}\n",
      "I learned a lot from Washington State Teacher of the Year @_MrHand about creating a classroom where kids want to be… https://t.co/RwtyMoqq2X {'neg': 0.0, 'neu': 0.829, 'pos': 0.171, 'compound': 0.3612}\n",
      "Melinda and I are big fans of @DonorsChoose, and we were thrilled to learn that @WKamauBell is, too. Today, when yo… https://t.co/hisHofhp9l {'neg': 0.0, 'neu': 0.873, 'pos': 0.127, 'compound': 0.4404}\n",
      "When teachers have the right tools, there’s no telling where it will take them. Today, when you give to… https://t.co/mOzBeKVxxC {'neg': 0.104, 'neu': 0.896, 'pos': 0.0, 'compound': -0.296}\n",
      "Being poor isn’t cheap. It’s hundreds of times more expensive to use charging stations than it is to charge a phone… https://t.co/5Wz2O0KWgi {'neg': 0.134, 'neu': 0.866, 'pos': 0.0, 'compound': -0.4767}\n",
      "Whenever I want to understand something better, I pick up a book. Here are some of the best ones I’ve read so far t… https://t.co/Gm0HnyPieW {'neg': 0.0, 'neu': 0.693, 'pos': 0.307, 'compound': 0.8126}\n",
      "There is no question that reliable electricity unlocks a better life for people. But can we power the world without… https://t.co/TX89IYK8ar {'neg': 0.074, 'neu': 0.835, 'pos': 0.09, 'compound': 0.09}\n",
      "Think back to the last time you experienced a power outage. If you live in New York, you don’t have to think that f… https://t.co/BgezIPxLR3 {'neg': 0.0, 'neu': 1.0, 'pos': 0.0, 'compound': 0.0}\n",
      "Five years ago, India was declared polio-free. This incredible milestone was made possible by the health workers, g… https://t.co/xQTPqO8JXj {'neg': 0.0, 'neu': 1.0, 'pos': 0.0, 'compound': 0.0}\n",
      "What if we really are all in this together? In this fascinating book, @NAChristakis explains why and how humans evo… https://t.co/1GI9BvvZsq {'neg': 0.0, 'neu': 0.829, 'pos': 0.171, 'compound': 0.628}\n",
      "10 breakthrough technologies that could help us feed the world and fight climate change at the same time. https://t.co/u8zStX4iwQ {'neg': 0.117, 'neu': 0.762, 'pos': 0.121, 'compound': 0.0258}\n",
      "It's hard to overstate how important finding a better diagnostic is for fighting #Alzheimers. That’s why I’m invest… https://t.co/47n6kC3jfD {'neg': 0.173, 'neu': 0.619, 'pos': 0.208, 'compound': 0.2023}\n",
      "If you read one article about climate change this week, check out this one from @voxdotcom. Government support for… https://t.co/mun7s4P1Dw {'neg': 0.0, 'neu': 0.876, 'pos': 0.124, 'compound': 0.4019}\n",
      "Are our similarities powerful enough to overcome our differences? “Blueprint” is an optimistic (and terrific) book… https://t.co/jgaVOfk40Y {'neg': 0.0, 'neu': 0.746, 'pos': 0.254, 'compound': 0.6249}\n",
      "I usually wait until the end of the year to share good news that you might have missed, but I couldn’t resist shari… https://t.co/QpyZG38Y2F {'neg': 0.066, 'neu': 0.787, 'pos': 0.147, 'compound': 0.2382}\n",
      "Can you imagine an aircraft engine in your car? The @ARPAE Summit is one of the coolest places to learn about new e… https://t.co/dYPOUnFNfl {'neg': 0.0, 'neu': 1.0, 'pos': 0.0, 'compound': 0.0}\n",
      "The people who will suffer most from climate change are the ones least responsible for it. Here’s how we can help t… https://t.co/GyRTbQ3PPG {'neg': 0.194, 'neu': 0.71, 'pos': 0.096, 'compound': -0.4141}\n",
      "This is something I would have loved as a kid: @MicrosoftStore is hosting a series of free Camp Know Where events a… https://t.co/umTr600RP8 {'neg': 0.0, 'neu': 0.714, 'pos': 0.286, 'compound': 0.802}\n",
      "What political and economic changes are needed to address climate change? If you’re between 16 and 25 years old, sh… https://t.co/DarRwwvtq1 {'neg': 0.0, 'neu': 1.0, 'pos': 0.0, 'compound': 0.0}\n",
      "Last year @GatesUS invested $92 million in networks of schools that are working together to improve student outcome… https://t.co/UKhK7z6QKj {'neg': 0.0, 'neu': 0.861, 'pos': 0.139, 'compound': 0.4404}\n",
      "I recently wrote about how people with tech skills can find fascinating problems to work on in global health and de… https://t.co/ANi6qJVDeH {'neg': 0.107, 'neu': 0.754, 'pos': 0.139, 'compound': 0.2023}\n",
      "“Fathers who help unlock their daughter’s potential, standing up for their rights and raising them to believe they… https://t.co/E88mw95ZpS {'neg': 0.0, 'neu': 0.87, 'pos': 0.13, 'compound': 0.4019}\n",
      "Nearly one billion malaria cases have been prevented since 2000, but infection rates have plateaued or even increas… https://t.co/QNhIsALyIh {'neg': 0.0, 'neu': 0.945, 'pos': 0.055, 'compound': 0.0129}\n",
      "Can we feed 10 billion people? I’m optimistic that we can if we invest in research that will help poor farmers adap… https://t.co/JG9t0gO5cY {'neg': 0.11, 'neu': 0.712, 'pos': 0.178, 'compound': 0.2263}\n",
      "Nuclear power is the second-largest source of low-carbon electricity in the world — but its growth is slowing down.… https://t.co/aHzLvYqtr2 {'neg': 0.0, 'neu': 0.841, 'pos': 0.159, 'compound': 0.5267}\n",
      "I wish I had understood much earlier in my career what true inequity looks like and how to fight it. That’s why I’m… https://t.co/vMbA96MYxU {'neg': 0.091, 'neu': 0.629, 'pos': 0.28, 'compound': 0.6597}\n",
      "This is the teletype that brought Paul Allen and me together. And I’m so glad that it did. Paul was one of the most… https://t.co/i6g0BMFr9N {'neg': 0.0, 'neu': 0.861, 'pos': 0.139, 'compound': 0.5949}\n",
      "More people are getting their electricity from renewable sources that ever before. Here’s how we can build on the p… https://t.co/bvm0sP7Ebe {'neg': 0.0, 'neu': 1.0, 'pos': 0.0, 'compound': 0.0}\n",
      "Today’s commitment by @theresa_may to #StepUpTheFight against AIDS, TB and malaria will help save millions of lives… https://t.co/7LNj3JX7kI {'neg': 0.0, 'neu': 0.638, 'pos': 0.362, 'compound': 0.8176}\n",
      "My friendship with Paul Allen changed my life. I loved sharing some of my favorite stories about him (and a few old… https://t.co/BvQIBm38iB {'neg': 0.0, 'neu': 0.574, 'pos': 0.426, 'compound': 0.9118}\n",
      "Few inventions have changed our lives as much as the battery. I’m excited that more inventors and investors are bei… https://t.co/pVBxzFTJAJ {'neg': 0.0, 'neu': 0.893, 'pos': 0.107, 'compound': 0.34}\n",
      "It’s great to see such early support from Japan in re-committing to the @GlobalFund. The support of @AbeShinzo and… https://t.co/fGwXtkVNkJ {'neg': 0.0, 'neu': 0.642, 'pos': 0.358, 'compound': 0.8591}\n",
      "I’m excited about the progress we’re making toward understanding Alzheimer’s. For the first time, @MIT researchers… https://t.co/lWLXkJiqcb {'neg': 0.0, 'neu': 0.743, 'pos': 0.257, 'compound': 0.6369}\n",
      "I love talking about toilets. @NatGeo recently wrote about two that I think could change the world.\n",
      "https://t.co/2Q521aLrDK {'neg': 0.0, 'neu': 0.781, 'pos': 0.219, 'compound': 0.6369}\n",
      "I’m excited to see such incredible leadership from @EmmanuelMacron and the people of France towards @GlobalFund. If… https://t.co/1yIDluZcfF {'neg': 0.0, 'neu': 0.876, 'pos': 0.124, 'compound': 0.34}\n",
      "I learned what’s possible in agriculture from studying a remarkable scientist named Norman Borlaug. If you’re curio… https://t.co/IWBkbwBxpB {'neg': 0.0, 'neu': 0.806, 'pos': 0.194, 'compound': 0.5574}\n",
      "If you have the willingness to learn about a problem and the talent to help solve it, you can make a remarkable dif… https://t.co/4URUTuqcil {'neg': 0.085, 'neu': 0.505, 'pos': 0.41, 'compound': 0.8519}\n",
      "I encourage software developers, inventors, and scientists to consider how they can use their skills to fight inequ… https://t.co/0P2l9ThfOi {'neg': 0.119, 'neu': 0.731, 'pos': 0.151, 'compound': 0.1779}\n",
      "When @goodreads asked me to share my top summer reading recommendations, it was hard to narrow down the list. https://t.co/SlVDDIDnd7 {'neg': 0.062, 'neu': 0.759, 'pos': 0.179, 'compound': 0.3818}\n",
      "Fighting disease is like fighting fire. It’s not enough to put out most of it — you have to get it all. @Rotary’s g… https://t.co/Zio9nWxsUi {'neg': 0.247, 'neu': 0.669, 'pos': 0.084, 'compound': -0.5994}\n",
      "The fight against malaria is one of the greatest success stories in global health — but progress has slowed in rece… https://t.co/BMtUZu6QTn {'neg': 0.066, 'neu': 0.619, 'pos': 0.315, 'compound': 0.7814}\n",
      "I was moved by this story: Bob’s daughter has Down syndrome, which puts her at a higher risk for dementia. Motivate… https://t.co/UbTDVcDZWQ {'neg': 0.1, 'neu': 0.9, 'pos': 0.0, 'compound': -0.2732}\n",
      "Our foundation’s Day of Caring is one of my dad’s favorite days of the year. I know he can’t wait to hear what our… https://t.co/s81X5MgeAD {'neg': 0.0, 'neu': 0.78, 'pos': 0.22, 'compound': 0.7351}\n",
      "I’m always amazed by the disconnect between what we see in the news and the reality of the world around us. As my l… https://t.co/F6OwugM850 {'neg': 0.0, 'neu': 0.882, 'pos': 0.118, 'compound': 0.4939}\n",
      "Thank you for being a friend, Warren: https://t.co/4hhwUvkGox #BestFriendsDay https://t.co/1hmF1WE5gC {'neg': 0.0, 'neu': 0.551, 'pos': 0.449, 'compound': 0.6908}\n",
      "I’m thrilled about the elimination of malaria from Algeria and Argentina. This news gives me hope that we’ll one da… https://t.co/m4oWhAVbzH {'neg': 0.0, 'neu': 0.766, 'pos': 0.234, 'compound': 0.7003}\n",
      "David Letterman’s newest season of #MyNextGuest has a lot of fascinating guests, but there’s one clear standout for… https://t.co/1GmkRjkJx9 {'neg': 0.0, 'neu': 0.739, 'pos': 0.261, 'compound': 0.6858}\n",
      "Patience: it's a valuable skill for investing and for training new employees at Dairy Queen. https://t.co/654kxGktaO {'neg': 0.0, 'neu': 0.819, 'pos': 0.181, 'compound': 0.4767}\n",
      "Warren and I recently picked up a @DairyQueen shift. I think I may have been a quicker study in the Blizzard depart… https://t.co/9v7Pfyscxe {'neg': 0.0, 'neu': 1.0, 'pos': 0.0, 'compound': 0.0}\n",
      "A powerful call to action from @angienguku on the eve of #WD2019. @melindagates and I are impatient for every mothe… https://t.co/0x1RJk2E5D {'neg': 0.1, 'neu': 0.773, 'pos': 0.127, 'compound': 0.1531}\n",
      "If you’re working on digital biomarkers for Alzheimer's disease and related dementias, I encourage you to apply for… https://t.co/HgILGvvgDd {'neg': 0.0, 'neu': 0.837, 'pos': 0.163, 'compound': 0.5106}\n",
      "Congratulations to the first round of award recipients from @TheADDF’s Diagnostics Accelerator. Your ideas are gett… https://t.co/nAUWkUUpd5 {'neg': 0.0, 'neu': 0.67, 'pos': 0.33, 'compound': 0.8126}\n",
      "Identifying candidates for clinical trials more quickly is essential in the fight against Alzheimer’s. That’s why I… https://t.co/IinZ9zQ1KB {'neg': 0.133, 'neu': 0.867, 'pos': 0.0, 'compound': -0.3818}\n",
      "I recently sat down with one of my favorite authors, Jared Diamond. His perspective on political polarization reall… https://t.co/7V2lrpkhm9 {'neg': 0.0, 'neu': 0.748, 'pos': 0.252, 'compound': 0.6597}\n",
      "Breakthrough Energy Ventures – Europe will be a catalyst for innovative solutions to fight climate change. We have… https://t.co/hvdDw3DW3m {'neg': 0.117, 'neu': 0.583, 'pos': 0.3, 'compound': 0.4767}\n",
      "We need the collective effort of governments, individuals, and the private sector to tackle climate change. I’m exc… https://t.co/apqvhzQZZ9 {'neg': 0.0, 'neu': 1.0, 'pos': 0.0, 'compound': 0.0}\n",
      "I can’t recommend these books highly enough: https://t.co/h9J71vWAcz https://t.co/3gOdcA4OaX {'neg': 0.0, 'neu': 0.737, 'pos': 0.263, 'compound': 0.3612}\n",
      "Last year I recommended “Bad Blood,” which is about the rise and fall of Theranos. This year I’m recommending “Nine… https://t.co/BXNxYzx70S {'neg': 0.0, 'neu': 0.913, 'pos': 0.087, 'compound': 0.2023}\n",
      "Congratulations @NarendraModi on a remarkable win in #IndianElections2019. Your continued commitment to improve hea… https://t.co/5ylNvZXOpn {'neg': 0.0, 'neu': 0.349, 'pos': 0.651, 'compound': 0.9501}\n",
      "I’m a big fan of everything Jared Diamond has written, and his latest book, “Upheaval,” is no exception. You can do… https://t.co/91I0F5Tcur {'neg': 0.088, 'neu': 0.723, 'pos': 0.189, 'compound': 0.3612}\n",
      "This #RedNoseDay, I’m swapping out my usual summer books for something a little different. Learn how you can help e… https://t.co/h0w9I6C890 {'neg': 0.0, 'neu': 0.876, 'pos': 0.124, 'compound': 0.4019}\n",
      "Whether you’re a political leader or just an armchair historian, you’ll learn a lot from @BeschlossDC's book “Presi… https://t.co/wdl4Roovad {'neg': 0.0, 'neu': 1.0, 'pos': 0.0, 'compound': 0.0}\n",
      "This book will take you on a trip you’ll never forget: https://t.co/l4IvTS9AHD https://t.co/mNkg6G9lof {'neg': 0.0, 'neu': 0.868, 'pos': 0.132, 'compound': 0.1695}\n",
      "Looking for a summer read? You can’t go wrong with one of these great books: https://t.co/xB82XMnJY9 {'neg': 0.153, 'neu': 0.644, 'pos': 0.203, 'compound': 0.25}\n",
      "This is great news: wind and solar power generation is expanding at record rates, allowing more people to get their… https://t.co/Gp976XiPiE {'neg': 0.0, 'neu': 0.83, 'pos': 0.17, 'compound': 0.6249}\n",
      "Together, we can achieve what @Rotary first envisioned: a world where no child will be struck with polio ever again… https://t.co/rRoWJGvCco {'neg': 0.189, 'neu': 0.811, 'pos': 0.0, 'compound': -0.4939}\n",
      "Nearly every job created since the last recession has gone to someone with a post-high school education. But which… https://t.co/uz6GUviXiQ {'neg': 0.093, 'neu': 0.833, 'pos': 0.074, 'compound': -0.1027}\n",
      "A college degree is the surest path to a healthy, rewarding life and career. But which degrees and programs provide… https://t.co/4TDvrYiXTo {'neg': 0.0, 'neu': 0.737, 'pos': 0.263, 'compound': 0.5719}\n",
      "Everyone at the @gatesfoundation looks forward to days when our trustee Warren is on campus. @melindagates and I co… https://t.co/HONCGF2FBm {'neg': 0.0, 'neu': 0.9, 'pos': 0.1, 'compound': 0.25}\n",
      "It is surprisingly hard to store renewable energy. Here are three startups I’m excited about that are tackling this… https://t.co/vMdkkX3VqI {'neg': 0.058, 'neu': 0.664, 'pos': 0.278, 'compound': 0.6486}\n",
      "It’s easy to be overwhelmed by climate change and what to do about it. I recently wrote about why I’m optimistic we… https://t.co/eCdEevDcYi {'neg': 0.0, 'neu': 0.748, 'pos': 0.252, 'compound': 0.6597}\n",
      "A fascinating discussion with computer scientist @drfeifei, historian @harari_yuval, and journalist @nxthompson on… https://t.co/6ESu0FY2gr {'neg': 0.0, 'neu': 0.774, 'pos': 0.226, 'compound': 0.5423}\n",
      "My mom was one of the most generous people I’ve ever known. If I grew up #WithoutMom, I wouldn’t be the man I am to… https://t.co/T3j1O0ew6P {'neg': 0.0, 'neu': 0.86, 'pos': 0.14, 'compound': 0.5563}\n",
      "All my life I’ve been surrounded by remarkable women. And I was moved when Melinda decided to write about two of th… https://t.co/2V6tXgdaNW {'neg': 0.0, 'neu': 0.854, 'pos': 0.146, 'compound': 0.5574}\n",
      "This fascinating #dataviz looks at how the global population pyramid is changing. With the right investments in hea… https://t.co/7DipZ0ML8S {'neg': 0.0, 'neu': 0.837, 'pos': 0.163, 'compound': 0.5423}\n",
      "I was touched when Melinda asked me to introduce her at her #MomentofLift book tour stop in Seattle tonight. I want… https://t.co/FyAZWcinnV {'neg': 0.104, 'neu': 0.896, 'pos': 0.0, 'compound': -0.296}\n",
      "2018 National Teacher of the Year @MandyRheaWrites told me about the remarkable resilience of her students. I was i… https://t.co/1rXKoqOAE4 {'neg': 0.0, 'neu': 0.833, 'pos': 0.167, 'compound': 0.5574}\n",
      "I really enjoyed spending time with 2017 WA State Teacher of the Year @farmtableteach. She showed me a neat lesson… https://t.co/HKcPtOifwd {'neg': 0.0, 'neu': 0.721, 'pos': 0.279, 'compound': 0.7645}\n",
      "For Teacher Appreciation Week, I’ll be highlighting some of the most impactful lessons I’ve learned from educators… https://t.co/PyrDhqvtMB {'neg': 0.0, 'neu': 0.837, 'pos': 0.163, 'compound': 0.5106}\n",
      "RT @GatesUS: No one has more insight than teachers into what makes a classroom tick, or how to reach &amp; inspire a struggling student. \n",
      "\n",
      "Happ… {'neg': 0.174, 'neu': 0.66, 'pos': 0.167, 'compound': -0.0516}\n",
      "I’ve learned a lot from the career of this real-life Sherlock Holmes: https://t.co/LhCRp52KgN https://t.co/0GnuegjFep {'neg': 0.0, 'neu': 1.0, 'pos': 0.0, 'compound': 0.0}\n",
      "Melinda and I love meeting with people who are trying to change the world. Here are four of the people who inspired… https://t.co/MrmYszRNMG {'neg': 0.0, 'neu': 0.833, 'pos': 0.167, 'compound': 0.6369}\n",
      "What does a “dirt detective” do for a living? I’m eager to watch this talk from soil scientist Asmeret Asefaw Berhe… https://t.co/Rw3GrZ1V3q {'neg': 0.0, 'neu': 0.884, 'pos': 0.116, 'compound': 0.3612}\n",
      "A few months ago, Fred contributed a piece to my blog which outlined why educating the next generation of African l… https://t.co/jPqGy5OhR3 {'neg': 0.0, 'neu': 1.0, 'pos': 0.0, 'compound': 0.0}\n",
      "By the end of the century, almost half of the young people in the world will be in sub-Saharan Africa. https://t.co/ZiBfAgjpxx {'neg': 0.0, 'neu': 1.0, 'pos': 0.0, 'compound': 0.0}\n",
      ".@FredSwaniker has an ambitious plan to unlock the talents of young Africans. I was thrilled to see him featured in… https://t.co/M411GHFCxL {'neg': 0.0, 'neu': 0.654, 'pos': 0.346, 'compound': 0.8402}\n",
      "It’s hard for me to overstate how brave people who fight outbreaks are. They face a near-impossible task with grace… https://t.co/C5HYQuTOlR {'neg': 0.164, 'neu': 0.697, 'pos': 0.139, 'compound': 0.1027}\n",
      "Congratulations @SueDHellmann on your 5th anniversary @gatesfoundation. Your leadership on some of the world’s toug… https://t.co/oNvoClCO3i {'neg': 0.0, 'neu': 0.794, 'pos': 0.206, 'compound': 0.5994}\n",
      "The world’s historic progress to #endpolio would not be possible without the strong commitment of partners like… https://t.co/pCePwNoI0U {'neg': 0.215, 'neu': 0.661, 'pos': 0.123, 'compound': -0.27}\n",
      "If you enjoyed the @Avengers this weekend, I think you’ll be inspired by these real-life heroes:… https://t.co/UISSYrSC1a {'neg': 0.0, 'neu': 0.683, 'pos': 0.317, 'compound': 0.7579}\n",
      "It’s amazing to think about the creative ways we’ve delivered vaccines over the years (even by dog sled, when neces… https://t.co/im8i1Ujhel {'neg': 0.0, 'neu': 0.739, 'pos': 0.261, 'compound': 0.7717}\n",
      "The promise and perils of gene-editing might be the most important public debate we haven’t been having widely enou… https://t.co/e1LcPvW28E {'neg': 0.0, 'neu': 0.804, 'pos': 0.196, 'compound': 0.5256}\n",
      "One of my favorite authors, @sapinker, co-wrote a piece about why nuclear power is so important in fighting climate… https://t.co/pKWclbfZcA {'neg': 0.115, 'neu': 0.663, 'pos': 0.222, 'compound': 0.3823}\n",
      "Deaths from malaria have dropped 42% since 2000. I’m as optimistic as ever that we can get to zero deaths in our ge… https://t.co/tiimK3witk {'neg': 0.0, 'neu': 0.909, 'pos': 0.091, 'compound': 0.3182}\n",
      "Stories like this one from Kenya remind me of why Melinda and I started our foundation. I'm optimistic we will cont… https://t.co/XAm4jQgsVA {'neg': 0.0, 'neu': 0.798, 'pos': 0.202, 'compound': 0.5859}\n",
      "Melinda’s new book, The #MomentofLift, is out today: https://t.co/sC4eE1Jy8N.\n",
      "\n",
      "She combines her mastery of data wit… https://t.co/Gbz9r4Ts8U {'neg': 0.0, 'neu': 1.0, 'pos': 0.0, 'compound': 0.0}\n",
      "On #EarthDay, I’m inspired by the inventors who are tackling climate change and all the people who are supporting t… https://t.co/bw0imff81U {'neg': 0.0, 'neu': 0.757, 'pos': 0.243, 'compound': 0.7269}\n",
      "Melinda’s new book The #MomentofLift is an urgent call to action. I’ll commit to the lift by working to ensure that… https://t.co/RW2elIYTC5 {'neg': 0.0, 'neu': 0.742, 'pos': 0.258, 'compound': 0.6808}\n",
      "Gene drive is a technique where you give a few mosquitoes an edited gene and it drives itself into all their offspr… https://t.co/DODBKVfYRE {'neg': 0.0, 'neu': 1.0, 'pos': 0.0, 'compound': 0.0}\n",
      "Less than a century ago, families everywhere lived in fear of a mosquito bite. Now 75% of all malaria cases occur i… https://t.co/3UlIb4iuwe {'neg': 0.138, 'neu': 0.862, 'pos': 0.0, 'compound': -0.4939}\n",
      "3: Which of the following factors affect the spread of malaria? The answer is in my latest blog post: https://t.co/Vv1rQ79zSJ {'neg': 0.0, 'neu': 1.0, 'pos': 0.0, 'compound': 0.0}\n",
      "2: What kind of pathogen causes malaria? Find the answer here: https://t.co/tUPDUDpfK7 {'neg': 0.0, 'neu': 1.0, 'pos': 0.0, 'compound': 0.0}\n",
      "Biology pop quiz! Test your knowledge about the world’s deadliest animal: the mosquito.\n",
      "\n",
      "1: Of the 3,000 species of… https://t.co/VkHLU3bRUa {'neg': 0.0, 'neu': 1.0, 'pos': 0.0, 'compound': 0.0}\n",
      "Here’s one reason why I really, really hate mosquitoes: https://t.co/DDG0kG692T #MosquitoWeek https://t.co/7qTfCLDKmu {'neg': 0.299, 'neu': 0.701, 'pos': 0.0, 'compound': -0.6453}\n",
      "I’ve been fascinated by Leonardo da Vinci for decades. Although he died 500 years ago, there’s still so much to lea… https://t.co/kWp8kF3uij {'neg': 0.135, 'neu': 0.749, 'pos': 0.116, 'compound': -0.128}\n",
      "Precision maps are bringing us closer to the day when malaria is gone forever. https://t.co/mxqN60hOJN {'neg': 0.0, 'neu': 1.0, 'pos': 0.0, 'compound': 0.0}\n",
      "Why I would rather encounter a shark in the wild than a mosquito: https://t.co/6CrnkJ6f31 #MosquitoWeek https://t.co/uB5YFPLgzO {'neg': 0.0, 'neu': 1.0, 'pos': 0.0, 'compound': 0.0}\n",
      "I’m proud that @Microsoft is one of the many companies taking action to fight climate change and excited about its… https://t.co/PY3rkpaZLV {'neg': 0.1, 'neu': 0.69, 'pos': 0.211, 'compound': 0.4404}\n",
      "To kick off #MosquitoWeek, I wrote about the world’s deadliest shapeshifter (and what scientists are learning about… https://t.co/pDEJiwDU6H {'neg': 0.0, 'neu': 1.0, 'pos': 0.0, 'compound': 0.0}\n",
      "Shapeshifters are not just the stuff of science fiction, though. We have them right here on earth. {'neg': 0.0, 'neu': 1.0, 'pos': 0.0, 'compound': 0.0}\n",
      "There’s an epic scene at the end where Spock has to figure out which one is the impostor. https://t.co/yOSI4WyneG {'neg': 0.0, 'neu': 1.0, 'pos': 0.0, 'compound': 0.0}\n",
      "As a teenager, I remember watching an episode of the original Star Trek where the bad guy is a shapeshifter who tur… https://t.co/MDkPCMhDuC {'neg': 0.147, 'neu': 0.756, 'pos': 0.097, 'compound': -0.296}\n",
      "When I was younger, I loved science fiction. The author I read the most was Robert Heinlein (“The Moon Is a Harsh Mistress” was a favorite). {'neg': 0.112, 'neu': 0.736, 'pos': 0.151, 'compound': 0.25}\n",
      "They're back... #MosquitoWeek https://t.co/4vt2Vt3fGN------------ {'neg': 0.0, 'neu': 1.0, 'pos': 0.0, 'compound': 0.0}\n",
      "Young Africans will shape the future of not just their own communities but the entire world. https://t.co/8h83nylCgw {'neg': 0.0, 'neu': 1.0, 'pos': 0.0, 'compound': 0.0}\n",
      "Melinda and I were honored to join President Bush and Laura Bush @TheBushCenter. Their leadership of programs like… https://t.co/BQP0lGr8yo {'neg': 0.0, 'neu': 0.727, 'pos': 0.273, 'compound': 0.7184}\n",
      "I would say this even if I weren’t married to the author: @melindagates’s new book “The Moment of Lift” is a terrif… https://t.co/A0R5jBCodI {'neg': 0.0, 'neu': 1.0, 'pos': 0.0, 'compound': 0.0}\n",
      "I’ve learned so much from Melinda over the years and I’m delighted she is now sharing her insights with the rest of… https://t.co/LwZ6b7ZUQT {'neg': 0.0, 'neu': 0.775, 'pos': 0.225, 'compound': 0.7269}\n",
      "I’ve recommended a lot of books over the years, but The #MomentofLift is particularly special to me… https://t.co/E2ZbzXSCU5 {'neg': 0.0, 'neu': 0.736, 'pos': 0.264, 'compound': 0.6586}\n",
      "It also includes insights about our marriage, the path we took to become equals in our work, and how she has helped… https://t.co/bPl1yUUzM1 {'neg': 0.0, 'neu': 1.0, 'pos': 0.0, 'compound': 0.0}\n",
      "She shares her personal journey from private citizen to public advocate -- including how she pushed our foundation… https://t.co/AHLBpyDXCk {'neg': 0.0, 'neu': 0.891, 'pos': 0.109, 'compound': 0.296}\n",
      "“The Moment of Lift” is a wise, honest, and beautifully written book about how empowering women lifts up everyone. {'neg': 0.0, 'neu': 0.598, 'pos': 0.402, 'compound': 0.8779}\n",
      ".@melindagates is the most important person in my life: an amazing partner, wife, mother, and friend (and now accom… https://t.co/hD0IU2g1Nv {'neg': 0.0, 'neu': 0.652, 'pos': 0.348, 'compound': 0.8439}\n",
      "Of the many uses for AI, I’m particularly excited about how it can help improve the lives of the world’s poorest. https://t.co/JFoLoWJPEL {'neg': 0.117, 'neu': 0.604, 'pos': 0.278, 'compound': 0.5849}\n",
      "In the future, identifying your risk of developing Alzheimer’s could be as simple as speaking into an app on your p… https://t.co/KiPC7yEOrx {'neg': 0.091, 'neu': 0.909, 'pos': 0.0, 'compound': -0.2732}\n",
      "When Paul and I founded @Microsoft together, we were confident that computers would change the world. But we never… https://t.co/HXfUDLLbGC {'neg': 0.0, 'neu': 0.896, 'pos': 0.104, 'compound': 0.2732}\n",
      "Reducing greenhouse gas emissions from buildings is one of the five biggest challenges in the fight against climate… https://t.co/qosVNYY1Yq {'neg': 0.124, 'neu': 0.813, 'pos': 0.062, 'compound': -0.3182}\n",
      "Most Americans want to know if they will get Alzheimer’s as early as possible. That’s an important insight for scie… https://t.co/DCWvYneaA1 {'neg': 0.0, 'neu': 0.849, 'pos': 0.151, 'compound': 0.3353}\n",
      "Thanks to major breakthroughs over the last several years, we’re closer than ever to having a reliable, affordable,… https://t.co/6EYyMIQXAs {'neg': 0.0, 'neu': 0.854, 'pos': 0.146, 'compound': 0.4404}\n",
      "This surprised me: there’s more carbon in soil than in the atmosphere and all plant life combined. Here’s what that… https://t.co/P0N3B60WoS {'neg': 0.0, 'neu': 0.913, 'pos': 0.087, 'compound': 0.2263}\n",
      "Pivot Bio has developed an alternative to synthetic fertilizer that could help transform farming and reduce greenho… https://t.co/Xkq86DPhrj {'neg': 0.0, 'neu': 0.863, 'pos': 0.137, 'compound': 0.4019}\n",
      "I’m thrilled that senators from both sides of the aisle have come together to support advanced nuclear. This is exa… https://t.co/M8aBLF6AXw {'neg': 0.0, 'neu': 0.703, 'pos': 0.297, 'compound': 0.765}\n",
      "Nuclear energy is one of these critical technologies. It’s ideal for dealing with climate change, because it is the… https://t.co/Egral4oR97 {'neg': 0.093, 'neu': 0.685, 'pos': 0.222, 'compound': 0.4939}\n",
      "To prevent the worst effects of climate change, we need to reach near-zero emissions on all the things that drive i… https://t.co/1DJw7rfyMd {'neg': 0.162, 'neu': 0.751, 'pos': 0.087, 'compound': -0.5994}\n",
      "Yesterday, a bipartisan group of leaders in the U.S. Senate introduced the Nuclear Energy Leadership Act, which est… https://t.co/TCpHhPoQao {'neg': 0.0, 'neu': 0.89, 'pos': 0.11, 'compound': 0.2732}\n",
      "RT @gatesfoundation: We’re celebrating the anniversary of an incredible public health achievement - 5 years since the entire South-East Asi… {'neg': 0.0, 'neu': 0.821, 'pos': 0.179, 'compound': 0.5719}\n",
      "We need to reach zero net emissions from every sector of the economy including agriculture (which, along with fores… https://t.co/SOAoXnmOLj {'neg': 0.0, 'neu': 0.945, 'pos': 0.055, 'compound': 0.0258}\n",
      "Most discussions about fighting climate change focus on electricity and the need for renewable energy. De-carbonizi… https://t.co/6buaK8da0q {'neg': 0.139, 'neu': 0.755, 'pos': 0.106, 'compound': -0.1689}\n",
      "Five years ago, India was declared poliofree. Whenever someone asks me how they did it, I tell them about one of th… https://t.co/3UJOpBuRr0 {'neg': 0.0, 'neu': 1.0, 'pos': 0.0, 'compound': 0.0}\n",
      "I’m inspired by Azim Premji’s continued commitment to philanthropy. His latest contribution will make a tremendous… https://t.co/jWu1g8Fzgh {'neg': 0.0, 'neu': 0.707, 'pos': 0.293, 'compound': 0.7003}\n",
      "Thanks to the incredible work of goat nurses, thousands of women in India have an opportunity to lift themselves an… https://t.co/W2iYncrg9E {'neg': 0.0, 'neu': 0.769, 'pos': 0.231, 'compound': 0.6908}\n",
      ".@SueDHellmann recently sat down with @CDCFound to talk about how our foundation measures the impact of our partner… https://t.co/xY1i1X0Ruc {'neg': 0.0, 'neu': 1.0, 'pos': 0.0, 'compound': 0.0}\n",
      "Meet the goat nurses, an incredible team of health workers who help women gain financial independence by raising he… https://t.co/ehtqyNnvaj {'neg': 0.0, 'neu': 0.747, 'pos': 0.253, 'compound': 0.7269}\n",
      "2019 marks 150 years since the creation of the periodic table. Whenever people visit my office, I like to show them… https://t.co/ujikQafQxt {'neg': 0.0, 'neu': 0.805, 'pos': 0.195, 'compound': 0.5574}\n",
      "If you believe innovation is for everyone, then I have a list for you: 10 challenges that the world needs your idea… https://t.co/z29h2mYjbP {'neg': 0.0, 'neu': 0.83, 'pos': 0.17, 'compound': 0.4404}\n",
      "Diversity is good for innovation. This is a great conversation between @robotsmarts and @timnitGebru on the importa… https://t.co/QaNcykjxJ1 {'neg': 0.0, 'neu': 0.593, 'pos': 0.407, 'compound': 0.8625}\n",
      "If you want to discover what makes a school great, there’s no substitute for spending time in the classroom. I lear… https://t.co/nn8vxEHb9h {'neg': 0.089, 'neu': 0.691, 'pos': 0.22, 'compound': 0.4939}\n",
      "Medical advances should be available to everyone who needs them. That’s why I’m excited about an inexpensive blood… https://t.co/u4OaCcxc5v {'neg': 0.0, 'neu': 0.882, 'pos': 0.118, 'compound': 0.34}\n",
      "It’s great to see leaders in Washington talking about accelerating energy innovation to fight climate change. This… https://t.co/U2LBZe73Rm {'neg': 0.102, 'neu': 0.551, 'pos': 0.346, 'compound': 0.7351}\n",
      "I was lucky to be a young person when the digital revolution was just getting under way, and my Microsoft colleague… https://t.co/FnfsCMv5ZV {'neg': 0.0, 'neu': 0.872, 'pos': 0.128, 'compound': 0.4215}\n"
     ]
    }
   ],
   "source": [
    "sentiment_bill=0\n",
    "for sentence in df['Message']:\n",
    "    vs = analyzer.polarity_scores(sentence)\n",
    "    sentiment_bill=sentiment_bill+vs['compound']\n",
    "    print(\"{:-<65} {}\".format(sentence, str(vs)))"
   ]
  },
  {
   "cell_type": "markdown",
   "metadata": {},
   "source": [
    "## Average sentiment for Bill gates"
   ]
  },
  {
   "cell_type": "code",
   "execution_count": 35,
   "metadata": {},
   "outputs": [
    {
     "data": {
      "text/plain": [
       "0.30581299999999995"
      ]
     },
     "execution_count": 35,
     "metadata": {},
     "output_type": "execute_result"
    }
   ],
   "source": [
    "sentiment_bill/len(df['Message'])"
   ]
  },
  {
   "cell_type": "code",
   "execution_count": 36,
   "metadata": {},
   "outputs": [
    {
     "name": "stdout",
     "output_type": "stream",
     "text": [
      "RT @TreasurySpox: It’s been 1️⃣ year since President @realDonaldTrump announced the new US-Mexico-Canada trade agreement. USMCA will be a w… {'neg': 0.0, 'neu': 0.849, 'pos': 0.151, 'compound': 0.4939}\n",
      "RT @RepAnnWagner: As a cosponsor of the resolution to censure Rep. Adam Schiff, I was disappointed Nancy Pelosi did not even allow a vote o… {'neg': 0.192, 'neu': 0.808, 'pos': 0.0, 'compound': -0.5812}\n",
      "RT @RepJohnJoyce: It is disappointing that House Democrats blocked a vote to condemn and censure Chairman Adam Schiff for lying to the Amer… {'neg': 0.386, 'neu': 0.614, 'pos': 0.0, 'compound': -0.8834}\n",
      "RT @RepLaMalfa: Tonight, I joined @SteveScalise, @RepAndyBiggsAZ, &amp; @HouseGOP in voting to censure Rep. Adam Schiff. \n",
      "\n",
      "Of course, Democrats… {'neg': 0.0, 'neu': 1.0, 'pos': 0.0, 'compound': 0.0}\n",
      "RT @dogoodmore: Lawmaker leading charge to censure Adam Schiff says he's engineering 'total political hit job' on Trump https://t.co/TgFQ9y… {'neg': 0.0, 'neu': 1.0, 'pos': 0.0, 'compound': 0.0}\n",
      "RT @LouDobbs: Condemn Shifty Schiff. @Jim_Jordan on House Republicans voting to censure Adam Schiff. #AmericaFirst #MAGA #Dobbs https://t.c… {'neg': 0.133, 'neu': 0.867, 'pos': 0.0, 'compound': -0.3818}\n",
      "RT @RepRickCrawford: Adam Schiff has eliminated the access Republican HPSCI members have &amp; has locked down depositions in a manner that is… {'neg': 0.0, 'neu': 1.0, 'pos': 0.0, 'compound': 0.0}\n",
      "RT @DJTrumpsButt: RT realDonaldTrump \"RT AmericaNewsroom: THE HEADLINER: Jim_Jordan comments on the latest in the impeachment inquiry as Re… {'neg': 0.0, 'neu': 1.0, 'pos': 0.0, 'compound': 0.0}\n",
      "RT @SaraCarterDC: After almost two months of making a huge deal about the #Whistleblower testimony that would actually #impeach @realDonald… {'neg': 0.0, 'neu': 0.887, 'pos': 0.113, 'compound': 0.3182}\n",
      "RT @RepAndyBiggsAZ: On Monday, I, along with the vast majority of my @HouseGOP colleagues, will press forward with my motion to censure Ada… {'neg': 0.0, 'neu': 1.0, 'pos': 0.0, 'compound': 0.0}\n",
      "RT @GregGutfeldShow: Adam Schiff goes for a physical. #Gutfeld https://t.co/qbeCVVxccs {'neg': 0.0, 'neu': 1.0, 'pos': 0.0, 'compound': 0.0}\n",
      "RT @SteveScalise: Dems claim their scheme to impeach @realDonaldTrump is fair.\n",
      "\n",
      "Here's the reality:\n",
      "\n",
      "- All done in secret\n",
      "- Led by proven-l… {'neg': 0.0, 'neu': 0.897, 'pos': 0.103, 'compound': 0.3182}\n",
      "RT @GregGutfeldShow: Adam Schiff tries to take a nap. #Gutfeld https://t.co/akNEGY6PDd {'neg': 0.0, 'neu': 1.0, 'pos': 0.0, 'compound': 0.0}\n",
      "RT @Rep_Watkins: The resolution to #CensureSchiff failed on the floor tonight.\n",
      "\n",
      "I guess Democrats are okay with Adam Schiff:\n",
      "\n",
      "▪️ Spreading… {'neg': 0.131, 'neu': 0.794, 'pos': 0.075, 'compound': -0.34}\n",
      "RT @RepAndyBiggsAZ: Adam Schiff may not have been held accountable tonight, but the American people are very much aware of his reckless dis… {'neg': 0.139, 'neu': 0.861, 'pos': 0.0, 'compound': -0.5499}\n",
      "Thank you Liz. Shows great Republican support! https://t.co/WsuTmv6Tfh {'neg': 0.0, 'neu': 0.343, 'pos': 0.657, 'compound': 0.8622}\n",
      "RT @newtgingrich: Nancy Pelosi and Adam Schiff have both become embarrassingly dishonest. They, along with the rest of the House Democrats,… {'neg': 0.252, 'neu': 0.748, 'pos': 0.0, 'compound': -0.7506}\n",
      "RT @AmericaNewsroom: THE HEADLINER: @Jim_Jordan comments on the latest in the impeachment inquiry as Republicans prepare to file a motion t… {'neg': 0.0, 'neu': 1.0, 'pos': 0.0, 'compound': 0.0}\n",
      "RT @RepAndyBiggsAZ: COMING UP: I'm joining @SandraSmithFox on @AmericaNewsroom to discuss tonight's vote on my motion to condemn and censur… {'neg': 0.12, 'neu': 0.88, 'pos': 0.0, 'compound': -0.3818}\n",
      "RT @USRepLong: I am proud to stand with my colleagues to demand transparency during this \"impeachment inquiry.\" Rep. Schiff has demonstrate… {'neg': 0.066, 'neu': 0.796, 'pos': 0.137, 'compound': 0.3818}\n",
      "RT @SteveScalise: Adam Schiff must be held accountable for his lies.\n",
      "\n",
      "Tonight Republicans will move to censure &amp; condemn him for deliberate… {'neg': 0.213, 'neu': 0.787, 'pos': 0.0, 'compound': -0.6597}\n",
      "Thank you Dan and Kevin. Great Vote! https://t.co/MMJ5SanakG----- {'neg': 0.0, 'neu': 0.465, 'pos': 0.535, 'compound': 0.784}\n",
      "Will be interviewed by @seanhannity tonight at 9:00 P.M. on @FoxNews. Enjoy! {'neg': 0.0, 'neu': 0.759, 'pos': 0.241, 'compound': 0.5411}\n",
      "Doral in Miami would have been the best place to hold the G-7, and free, but too much heat from the Do Nothing Radi… https://t.co/THW5r9YzOG {'neg': 0.0, 'neu': 0.829, 'pos': 0.171, 'compound': 0.5789}\n",
      "Censure (at least) Corrupt Adam Schiff! After what he got caught doing, any pol who does not so vote cannot be hone… https://t.co/9e3aXSBYYC {'neg': 0.0, 'neu': 1.0, 'pos': 0.0, 'compound': 0.0}\n",
      "Great new book by wonderful and very street smart author Dan Bongino, EXONERATED, THE FAILED TAKEDOWN OF PRESIDENT… https://t.co/YcSTyDGgjQ {'neg': 0.125, 'neu': 0.433, 'pos': 0.442, 'compound': 0.8828}\n",
      "https://t.co/oSn6amjZo4------------------------------------------ {'neg': 0.0, 'neu': 1.0, 'pos': 0.0, 'compound': 0.0}\n",
      "https://t.co/R3Chppjx6S------------------------------------------ {'neg': 0.0, 'neu': 1.0, 'pos': 0.0, 'compound': 0.0}\n",
      "https://t.co/6sKKniiOfE------------------------------------------ {'neg': 0.0, 'neu': 1.0, 'pos': 0.0, 'compound': 0.0}\n",
      "A Great Democrat Scam! https://t.co/LbkVT7UvXX------------------- {'neg': 0.367, 'neu': 0.198, 'pos': 0.435, 'compound': 0.1759}\n",
      "Adam Schiff is a Corrupt Politician! https://t.co/16aSrqjwu2----- {'neg': 0.0, 'neu': 1.0, 'pos': 0.0, 'compound': 0.0}\n",
      "RT @bennyjohnson: 🚨IMPORTANT🚨\n",
      "\n",
      "This is the most crucial statistic of the 2020 election:  \n",
      "\n",
      "Average American middle class household income:… {'neg': 0.0, 'neu': 1.0, 'pos': 0.0, 'compound': 0.0}\n",
      "Congratulations Barbara! https://t.co/0cYrjL1YOj----------------- {'neg': 0.0, 'neu': 0.323, 'pos': 0.677, 'compound': 0.636}\n",
      "RT @SecretaryRoss: Since the election of President Trump, the U.S. has added 6.4 million jobs, including 500,000 in the #manufacturing sect… {'neg': 0.0, 'neu': 1.0, 'pos': 0.0, 'compound': 0.0}\n",
      "RT @SecretaryRoss: This action by the Commerce Department sends another clear message to the Cuban regime – that they must immediately ceas… {'neg': 0.0, 'neu': 0.885, 'pos': 0.115, 'compound': 0.3818}\n",
      "RT @realDonaldTrump: It is ONLY about this! https://t.co/ZB5xPDKs4b {'neg': 0.0, 'neu': 1.0, 'pos': 0.0, 'compound': 0.0}\n",
      "RT @IngrahamAngle: Republicans in the Congress should be asked:  why have you allowed the State Department to become an arm of the Democrat… {'neg': 0.0, 'neu': 1.0, 'pos': 0.0, 'compound': 0.0}\n",
      "“To the Democrats, Impeachment is partisan politics dressed up as principle.” @SteveHiltonx @FoxNews {'neg': 0.0, 'neu': 1.0, 'pos': 0.0, 'compound': 0.0}\n",
      "So interesting that, when I announced Trump National Doral in Miami would be used for the hosting of the G-7, and t… https://t.co/tDDMw6CPOd {'neg': 0.0, 'neu': 0.875, 'pos': 0.125, 'compound': 0.4576}\n",
      "....fiction to Congress and the American People?  I demand his deposition. He is a fraud, just like the Russia Hoax… https://t.co/Hum7mHfNiV {'neg': 0.223, 'neu': 0.672, 'pos': 0.105, 'compound': -0.4215}\n",
      "....because their so-called story didn’t come even close to matching up with the exact transcript of the phone call… https://t.co/SUGMgGZeJ3 {'neg': 0.0, 'neu': 1.0, 'pos': 0.0, 'compound': 0.0}\n",
      "This Scam going on right now by the Democrats against the Republican Party, and me, was all about a perfect phone c… https://t.co/nXPfrl25ag {'neg': 0.127, 'neu': 0.653, 'pos': 0.22, 'compound': 0.4019}\n",
      "Pelosi is now leading a delegation of 9, including Corrupt Adam Schiff, to Jordan to check out Syria. She should fi… https://t.co/FBznZni7FF {'neg': 0.0, 'neu': 1.0, 'pos': 0.0, 'compound': 0.0}\n",
      "https://t.co/dNfXkc8uUG------------------------------------------ {'neg': 0.0, 'neu': 1.0, 'pos': 0.0, 'compound': 0.0}\n",
      "https://t.co/kNVQf6JdIL------------------------------------------ {'neg': 0.0, 'neu': 1.0, 'pos': 0.0, 'compound': 0.0}\n",
      "“The ceasefire is holding up very nicely. There are some minor skirmishes that have ended quickly. New areas being… https://t.co/TzJkyag5JH {'neg': 0.0, 'neu': 0.856, 'pos': 0.144, 'compound': 0.4927}\n",
      "The WALL is making a very big difference. Even Dems in area are happy! https://t.co/NDzq2oIsHV {'neg': 0.0, 'neu': 0.765, 'pos': 0.235, 'compound': 0.6114}\n",
      "RT @GOP: Promises MADE, Promises KEPT!\n",
      " \n",
      "#KeepAmericaGreat\n",
      "https://t.co/oHRgIpFGV1 {'neg': 0.0, 'neu': 0.522, 'pos': 0.478, 'compound': 0.6696}\n",
      "RT @IvankaTrump: Thru #WGDP’s partnership w/ @WorldBank, #WeFi, $2.6 Billion will be mobilized for women entrepreneurs in 26 developing cou… {'neg': 0.0, 'neu': 1.0, 'pos': 0.0, 'compound': 0.0}\n",
      "RT @realDonaldTrump: https://t.co/kNVQf6JdIL--------------------- {'neg': 0.0, 'neu': 1.0, 'pos': 0.0, 'compound': 0.0}\n",
      "https://t.co/kNVQf6JdIL------------------------------------------ {'neg': 0.0, 'neu': 1.0, 'pos': 0.0, 'compound': 0.0}\n",
      "RT @GOP: .@realDonaldTrump is putting AMERICA FIRST! https://t.co/dtzimD1X3d {'neg': 0.0, 'neu': 1.0, 'pos': 0.0, 'compound': 0.0}\n",
      "So now Crooked Hillary is at it again! She is calling Congresswoman Tulsi Gabbard “a Russian favorite,” and Jill St… https://t.co/qBeaGRueWS {'neg': 0.0, 'neu': 1.0, 'pos': 0.0, 'compound': 0.0}\n",
      "Never give up. We are doing GREAT! We are WINNING! https://t.co/MKDn5WStFU {'neg': 0.0, 'neu': 0.485, 'pos': 0.515, 'compound': 0.8898}\n",
      "....Therefore, based on both Media &amp; Democrat Crazed and Irrational Hostility, we will no longer consider Trump Nat… https://t.co/qJPYSwIfGP {'neg': 0.39, 'neu': 0.61, 'pos': 0.0, 'compound': -0.8225}\n",
      "https://t.co/dNfXkc8uUG------------------------------------------ {'neg': 0.0, 'neu': 1.0, 'pos': 0.0, 'compound': 0.0}\n",
      ".....its own 50 to 70 unit building. Would set up better than other alternatives. I announced that I would be willi… https://t.co/F3PB9Xzseu {'neg': 0.0, 'neu': 0.868, 'pos': 0.132, 'compound': 0.4404}\n",
      "I thought I was doing something very good for our Country by using Trump National Doral, in Miami, for hosting the… https://t.co/lfJvhCW1v0 {'neg': 0.0, 'neu': 0.856, 'pos': 0.144, 'compound': 0.4927}\n",
      "RT @CLewandowski_: Media ignoring Bidens' Ukraine dealings to protect ex-VP, Corey Lewandowski alleges | Fox News https://t.co/U4AjBJoA2g {'neg': 0.14, 'neu': 0.725, 'pos': 0.135, 'compound': -0.0258}\n",
      "“The President never told me to withhold any money until the Ukrainians did anything related to the server. The onl… https://t.co/1Zivgzpe69 {'neg': 0.0, 'neu': 1.0, 'pos': 0.0, 'compound': 0.0}\n",
      "RT @GreggJarrett: Will these parties that disregarded the laws and statutes that protect Americans be held to justice? https://t.co/rIindvX… {'neg': 0.099, 'neu': 0.57, 'pos': 0.331, 'compound': 0.7269}\n",
      "See you there! https://t.co/msBoZ1TbNX--------------------------- {'neg': 0.0, 'neu': 1.0, 'pos': 0.0, 'compound': 0.0}\n",
      "RT @HouseGOP: “On their farms, when something needs to get done, our dairy farmers don’t hem and haw, they don’t drag their feet and they d… {'neg': 0.071, 'neu': 0.929, 'pos': 0.0, 'compound': -0.2263}\n",
      "https://t.co/yvsGhK5N9X------------------------------------------ {'neg': 0.0, 'neu': 1.0, 'pos': 0.0, 'compound': 0.0}\n",
      "Crooked Hillary Clinton just called the respected environmentalist and Green Party candidate, Jill Stein, a “Russia… https://t.co/X4THYpEAJw {'neg': 0.0, 'neu': 0.707, 'pos': 0.293, 'compound': 0.7003}\n",
      "RT @GOPChairwoman: We've seen a huge spike in enthusiasm since Democrats like Elissa Slotkin and Haley Stevens backed Pelosi's bogus impeac… {'neg': 0.0, 'neu': 0.645, 'pos': 0.355, 'compound': 0.7783}\n",
      "RT @RepDanCrenshaw: Amidst the political noise, it’s important to ask yourself: \"If Congress wasn’t so focused on impeachment, what else co… {'neg': 0.0, 'neu': 0.786, 'pos': 0.214, 'compound': 0.6329}\n",
      "RT @VP: While Dems in Congress have been trying to overturn the will of the American people by reversing Election Day 2016, our Admin will… {'neg': 0.0, 'neu': 1.0, 'pos': 0.0, 'compound': 0.0}\n",
      "It is ONLY about this! https://t.co/ZB5xPDKs4b------------------- {'neg': 0.0, 'neu': 1.0, 'pos': 0.0, 'compound': 0.0}\n",
      "RT @DonaldJTrumpJr: Ahhhh good times. Happy third anniversary to one of the great comebacks of all time. https://t.co/KbSos1UApS {'neg': 0.0, 'neu': 0.584, 'pos': 0.416, 'compound': 0.8934}\n",
      "Just another FAKE SUPPRESSION POLL, this time from @FoxNews, of course! https://t.co/x8lYVE7QCo {'neg': 0.273, 'neu': 0.727, 'pos': 0.0, 'compound': -0.628}\n",
      "RT @NBCNews: NEW: US State Dept. has completed its internal investigation into former Sec. Clinton's use of private email and found violati… {'neg': 0.0, 'neu': 1.0, 'pos': 0.0, 'compound': 0.0}\n",
      "RT @GOP: It's no surprise that far-left Democrats like Alexandria Ocasio-Cortez and Illhan Omar support Senator Bernie Sanders for Presiden… {'neg': 0.086, 'neu': 0.627, 'pos': 0.286, 'compound': 0.6249}\n",
      "RT @RepLeeZeldin: I’ve sat through EVERY interview so far of this so called “impeachment inquiry” &amp; the President hasn’t done anything to p… {'neg': 0.0, 'neu': 1.0, 'pos': 0.0, 'compound': 0.0}\n",
      ".@RepMcClintock  Thank you Tom. Great interview on @TeamCavuto! @FoxNews {'neg': 0.0, 'neu': 0.504, 'pos': 0.496, 'compound': 0.784}\n",
      "A Great Book by Kimberley Strassel! https://t.co/TOQcUDmnAR------ {'neg': 0.0, 'neu': 0.532, 'pos': 0.468, 'compound': 0.6588}\n",
      "RT @ericmetaxas: Here is a LONG and rather revealing interview I did w/@KatrinaTrinko at the @Heritage Foundation's @DailySignal podcast! A… {'neg': 0.0, 'neu': 1.0, 'pos': 0.0, 'compound': 0.0}\n",
      "RT @JudicialWatch: NO MORE VOTER FRAUD: @JudicialWatch President @TomFitton announces 1.59 million ineligible voters to be removed from Cal… {'neg': 0.332, 'neu': 0.668, 'pos': 0.0, 'compound': -0.857}\n",
      "RT @GOPChairwoman: Nancy Pelosi only cares about her witch hunt, not working for the American people.\n",
      "\n",
      "It’s time for Pelosi to put the #USM… {'neg': 0.091, 'neu': 0.8, 'pos': 0.109, 'compound': 0.128}\n",
      "RT @GOPChairwoman: Everything is bigger in Texas – even a @realDonaldTrump rally! Awesome crowd!\n",
      "https://t.co/rj15fMyHyF {'neg': 0.0, 'neu': 0.719, 'pos': 0.281, 'compound': 0.6892}\n",
      "RT @GOPChairwoman: \"There is a reason President @realDonaldTrump enjoys over 90% approval among Republicans: He is doing exactly what he sa… {'neg': 0.0, 'neu': 0.738, 'pos': 0.262, 'compound': 0.7506}\n",
      "RT @GOPChairwoman: “Our country is once again living by two simple rules: buy American and hire American. The economy is booming. Our peopl… {'neg': 0.0, 'neu': 1.0, 'pos': 0.0, 'compound': 0.0}\n",
      "RT @GOPChairwoman: “The radical Democrats want to destroy America as we know it.” – @realDonaldTrump\n",
      " \n",
      "We won’t let that happen! \n",
      "https://t… {'neg': 0.164, 'neu': 0.779, 'pos': 0.056, 'compound': -0.5411}\n",
      "RT @GOPChairwoman: Once again, the mainstream media keeps moving the goalposts to attack @realDonaldTrump.\n",
      " \n",
      "Must-watch breakdown of the me… {'neg': 0.147, 'neu': 0.853, 'pos': 0.0, 'compound': -0.4767}\n",
      "RT @GOPChairwoman: “The people of this country know what the Dems are doing. They’re tired of it.” - @PressSec https://t.co/PbXGSD8Cpu {'neg': 0.139, 'neu': 0.861, 'pos': 0.0, 'compound': -0.4404}\n",
      "RT @RNCLatinos: Latinos across America are fired up to re–elect @realDonaldTrump!\n",
      "\n",
      "¡Latinos alrededor de los Estados Unidos están motivados… {'neg': 0.178, 'neu': 0.822, 'pos': 0.0, 'compound': -0.5983}\n",
      "RT @GOP: “[@realDonaldTrump] has been in office for 3 years. He has sustained an energy and a momentum that we have never seen, and his sup… {'neg': 0.0, 'neu': 0.916, 'pos': 0.084, 'compound': 0.2732}\n",
      "“I don’t see anything that constitutes an Impeachable offense - Nothing here rises to the level of Impeachment. The… https://t.co/9WDifJx3yZ {'neg': 0.1, 'neu': 0.9, 'pos': 0.0, 'compound': -0.25}\n",
      "RT @badluck_jones: Free Beacon Reminds Us of Lefty Double Standard Between Brewer, Pelosi Finger Wags https://t.co/R7c5kPzk6m {'neg': 0.0, 'neu': 0.82, 'pos': 0.18, 'compound': 0.5106}\n",
      "RT @charliekirk11: The Obama Administration asked Ukraine to investigate Trump when he was a private citizen\n",
      "\n",
      "Where were the MSM attacks th… {'neg': 0.127, 'neu': 0.873, 'pos': 0.0, 'compound': -0.4404}\n",
      "RT @charliekirk11: Obama foreign policy:\n",
      "\n",
      "—Let Syria cross his “red line”\n",
      "\n",
      "—Hillary’s Failed Russian Reset\n",
      "\n",
      "—$150 Billion in cash to our en… {'neg': 0.136, 'neu': 0.864, 'pos': 0.0, 'compound': -0.5106}\n",
      "RT @RepDougCollins: The Democrats are trying to conduct their “impeachment” inquiry in secret.\n",
      " \n",
      "We’ll see about that . . . https://t.co/oD… {'neg': 0.0, 'neu': 1.0, 'pos': 0.0, 'compound': 0.0}\n",
      "RT @SaraCarterDC: Democrat anger has grown so irrational that it has burst through the constitutional guardrails which protect our institut… {'neg': 0.258, 'neu': 0.644, 'pos': 0.098, 'compound': -0.6389}\n",
      "RT @brithume: Shouldn’t these stories contain the obligatory phrase “without evidence,” as the so often do when it’s Trump making the accus… {'neg': 0.0, 'neu': 1.0, 'pos': 0.0, 'compound': 0.0}\n",
      "Thank you very much. Working hard! https://t.co/z8dgzQxkVC------- {'neg': 0.176, 'neu': 0.529, 'pos': 0.295, 'compound': 0.2797}\n",
      "I agree! https://t.co/mxKKg98NvO--------------------------------- {'neg': 0.0, 'neu': 0.264, 'pos': 0.736, 'compound': 0.4199}\n",
      "Texas is great! https://t.co/aJSyPSHJfw-------------------------- {'neg': 0.0, 'neu': 0.406, 'pos': 0.594, 'compound': 0.6588}\n",
      "RT @TomFitton: Coup update. https://t.co/fPoPB7RJUB-------------- {'neg': 0.0, 'neu': 1.0, 'pos': 0.0, 'compound': 0.0}\n",
      "RT @TomFitton: HUGE: HUNDREDS of Security Violations Tied to Clinton Emails; CRIME?-Deep State Enemies List Targets @RealDonaldTrump Family… {'neg': 0.254, 'neu': 0.538, 'pos': 0.209, 'compound': -0.2885}\n",
      "RT @TomFitton: Coup Update https://t.co/JSN63yh93G--------------- {'neg': 0.0, 'neu': 1.0, 'pos': 0.0, 'compound': 0.0}\n",
      "There has never been a greater fraud on Congress. Shifty Schiff is Corrupt. Go Andy! https://t.co/yw57NhKpG2 {'neg': 0.114, 'neu': 0.704, 'pos': 0.182, 'compound': 0.308}\n",
      "RT @Jim_Jordan: .@RepAdamSchiff is now scheduling 2 witnesses a day and plans to conduct those depositions simultaneously. How can Members… {'neg': 0.0, 'neu': 1.0, 'pos': 0.0, 'compound': 0.0}\n",
      "Such a disgrace that the Do Nothing Democrats are doing just as their name suggests, Doing Nothing! USMCA anyone? {'neg': 0.17, 'neu': 0.83, 'pos': 0.0, 'compound': -0.5411}\n",
      "#StopTheCoup----------------------------------------------------- {'neg': 0.0, 'neu': 1.0, 'pos': 0.0, 'compound': 0.0}\n",
      "RT @ZTPetrizzo: One pro-Trump demonstrator just began hounding @EleanorNorton over the impeachment inquiry: https://t.co/FoywJXN4zi {'neg': 0.0, 'neu': 1.0, 'pos': 0.0, 'compound': 0.0}\n",
      "RT @ZTPetrizzo: Feeling bad for this intern... https://t.co/7WoYCRJbvv {'neg': 0.318, 'neu': 0.545, 'pos': 0.136, 'compound': -0.4588}\n",
      "RT @ZTPetrizzo: Here’s the scene outside of Speaker Pelosi’s office: https://t.co/G9niU7ATzZ {'neg': 0.0, 'neu': 1.0, 'pos': 0.0, 'compound': 0.0}\n",
      "RT @WomenforTrump: Today is the day we #MarchforTrump!\n",
      "\n",
      "While some may be trying to sabotage our efforts, we will not be deterred. \n",
      "\n",
      "We wil… {'neg': 0.138, 'neu': 0.862, 'pos': 0.0, 'compound': -0.5707}\n",
      "RT @ZTPetrizzo: Tomorrow ”Women for America First” will be marching around D.C. &amp; roaming the halls of the Capitol trying to find Pelosi, S… {'neg': 0.0, 'neu': 1.0, 'pos': 0.0, 'compound': 0.0}\n",
      "Susan Rice, who was a disaster to President Obama as National Security Advisor, is now telling us her opinion on wh… https://t.co/1IrtH5McCg {'neg': 0.161, 'neu': 0.745, 'pos': 0.094, 'compound': -0.4019}\n",
      "Pelosi and Impeachment - There have already been 3 Votes, and they’ve all failed miserably. Here’s why there may no… https://t.co/Phv5Jtemmt {'neg': 0.274, 'neu': 0.726, 'pos': 0.0, 'compound': -0.7506}\n",
      "Congressman Michael McCaul, “Schiff’s inquiry defies Democracy.” @FoxNews @seanhannity {'neg': 0.0, 'neu': 1.0, 'pos': 0.0, 'compound': 0.0}\n",
      "“Because the House has already voted against the Impeachment Proceeding, the current inquiry is totally invalid. Th… https://t.co/PZIzcO2WiE {'neg': 0.0, 'neu': 1.0, 'pos': 0.0, 'compound': 0.0}\n",
      "Corrupt Congressman Adam Schiff is angry that Ambassadors that he thought would be good for his fraudulent Witch Hu… https://t.co/8a8f8mqZb6 {'neg': 0.323, 'neu': 0.573, 'pos': 0.104, 'compound': -0.7269}\n",
      "REPUBLICANS MUST STICK TOGETHER AND FIGHT! https://t.co/chnSNURfFx {'neg': 0.377, 'neu': 0.623, 'pos': 0.0, 'compound': -0.561}\n",
      "https://t.co/Q2ar4LZGM4------------------------------------------ {'neg': 0.0, 'neu': 1.0, 'pos': 0.0, 'compound': 0.0}\n",
      "Think of how many lives we saved in Syria and Turkey by getting a ceasefire yesterday. Thousands and thousands, and maybe many more! {'neg': 0.0, 'neu': 0.872, 'pos': 0.128, 'compound': 0.4753}\n",
      "https://t.co/p5imhMJqS1------------------------------------------ {'neg': 0.0, 'neu': 1.0, 'pos': 0.0, 'compound': 0.0}\n",
      "....He is also my friend! At the same time, I am pleased to nominate Deputy Secretary Dan Brouillette to be the new… https://t.co/Pcc3G5sxtR {'neg': 0.0, 'neu': 0.758, 'pos': 0.242, 'compound': 0.75}\n",
      "I want to thank Secretary of Energy Rick Perry for the outstanding job he has done. He will be leaving at the end o… https://t.co/t1P7C4XOq1 {'neg': 0.0, 'neu': 0.669, 'pos': 0.331, 'compound': 0.836}\n",
      "Can you believe I am doing this important work for our Country, and have to deal with Corrupt Adam Schiff and the D… https://t.co/a9HvmsXW6O {'neg': 0.0, 'neu': 0.917, 'pos': 0.083, 'compound': 0.25}\n",
      "DEFEAT TERRORISM! https://t.co/8WbnLPgWIK------------------------ {'neg': 0.903, 'neu': 0.097, 'pos': 0.0, 'compound': -0.8849}\n",
      "....I have just been notified that some European Nations are now willing, for the first time, to take the ISIS Figh… https://t.co/2x0Hbvck3H {'neg': 0.0, 'neu': 1.0, 'pos': 0.0, 'compound': 0.0}\n",
      ".....this thinking years ago. Instead, it was always held together with very weak bandaids, &amp; in an artificial mann… https://t.co/xfVVvkP3Jt {'neg': 0.144, 'neu': 0.856, 'pos': 0.0, 'compound': -0.4927}\n",
      "Just spoke to President @RTErdogan of Turkey. He told me there was minor sniper and mortar fire that was quickly el… https://t.co/QPkgIfK4F4 {'neg': 0.103, 'neu': 0.897, 'pos': 0.0, 'compound': -0.34}\n",
      "RT @VVFriedman: POTUS discovers a ⁦@LouisVuitton⁩ bag https://t.co/MuuI2LcVpm {'neg': 0.0, 'neu': 1.0, 'pos': 0.0, 'compound': 0.0}\n",
      "RT @VVFriedman: The ⁦@LouisVuitton Trump ⁩ ribbon cutting. “Louis Vuitton...cost me a lot of money over the years” said the President. http… {'neg': 0.073, 'neu': 0.927, 'pos': 0.0, 'compound': -0.128}\n",
      "The USA! https://t.co/Zdj3Lyo76H--------------------------------- {'neg': 0.0, 'neu': 1.0, 'pos': 0.0, 'compound': 0.0}\n",
      "RT @VVFriedman: So here I am at the @LouisVuitton⁩ factory with the LV cattle in the LV fields in Johnson County, Texas for the POTUS ribbo… {'neg': 0.0, 'neu': 1.0, 'pos': 0.0, 'compound': 0.0}\n",
      "RT @PressSec: .@LouisVuitton is one of more than 350 companies delivering on the Pledge to America’s Workers. Thank you for investing in th… {'neg': 0.0, 'neu': 0.898, 'pos': 0.102, 'compound': 0.3612}\n",
      "RT @DanScavino: #TrumpRallyDallas #KAG2020 https://t.co/YZ7xrj8l1h {'neg': 0.0, 'neu': 1.0, 'pos': 0.0, 'compound': 0.0}\n",
      "Democrats are now the party of high taxes, high crime, open borders, late-term abortion, socialism, and blatant cor… https://t.co/tSNbCqhzVE {'neg': 0.151, 'neu': 0.733, 'pos': 0.116, 'compound': -0.2023}\n",
      "Tonight, we forcefully condemn the blatant corruption of the Democrat Party, the Fake News Media, and the rogue bur… https://t.co/LnlkBTfhUx {'neg': 0.224, 'neu': 0.669, 'pos': 0.106, 'compound': -0.4588}\n",
      "The radical left tolerates no dissent, it permits no opposition, it accepts no compromise, and it has absolutely no… https://t.co/J5ruRNe7G1 {'neg': 0.265, 'neu': 0.643, 'pos': 0.092, 'compound': -0.5106}\n",
      "Thank you Dallas, Texas - I love you! #TrumpRallyDallas #KAG2020 https://t.co/meWpesDYeM {'neg': 0.0, 'neu': 0.5, 'pos': 0.5, 'compound': 0.7901}\n",
      "Just arrived at the American Airlines Center in Dallas, Texas. Will be out shortly as we wait for more of you to ge… https://t.co/ef6YyOIG3p {'neg': 0.0, 'neu': 1.0, 'pos': 0.0, 'compound': 0.0}\n",
      "See you soon Dallas, Texas! https://t.co/Sg6xtp1vqQ-------------- {'neg': 0.0, 'neu': 1.0, 'pos': 0.0, 'compound': 0.0}\n",
      "RT @SarahAMatthews1: Dallas, Texas crowd is getting ready for @realDonaldTrump with a little YMCA ‼️ https://t.co/9muhNZqGvZ {'neg': 0.0, 'neu': 0.865, 'pos': 0.135, 'compound': 0.3612}\n",
      "This is a great day for civilization. I am proud of the United States for sticking by me in following a necessary,… https://t.co/4dKcAXxcHj {'neg': 0.0, 'neu': 0.63, 'pos': 0.37, 'compound': 0.875}\n",
      "This deal could NEVER have been made 3 days ago. There needed to be some “tough” love in order to get it done. Grea… https://t.co/nkpY0r5ti2 {'neg': 0.0, 'neu': 0.846, 'pos': 0.154, 'compound': 0.6369}\n",
      "Great news out of Turkey. News Conference shortly with @VP and @SecPompeo. Thank you to @RTErdogan. Millions of lives will be saved! {'neg': 0.0, 'neu': 0.662, 'pos': 0.338, 'compound': 0.8655}\n",
      "This number, based on the Economy &amp; how well our Country is doing, would potentially be 75% if not for the Fake New… https://t.co/wREm2kFsaC {'neg': 0.0, 'neu': 0.779, 'pos': 0.221, 'compound': 0.6065}\n",
      "RT @GOPChairwoman: House Democrats are engaged in “Soviet style” tactics in their effort to attack @realDonaldTrump.\n",
      "\n",
      "So true, @SteveScalis… {'neg': 0.125, 'neu': 0.643, 'pos': 0.233, 'compound': 0.4005}\n",
      "RT @rww_gop: Voters are rejecting the Dems’ baseless obstruction &amp; socialist agenda, and they’re making their voices heard loud &amp; clear. Su… {'neg': 0.117, 'neu': 0.781, 'pos': 0.102, 'compound': -0.1027}\n",
      "As the Witch Hunt continues! https://t.co/klvvwSXq7M------------- {'neg': 0.358, 'neu': 0.642, 'pos': 0.0, 'compound': -0.4199}\n",
      "The Greatest Witch Hunt in American History! https://t.co/sPnloffJMT {'neg': 0.192, 'neu': 0.462, 'pos': 0.346, 'compound': 0.4574}\n",
      "RT @realDonaldTrump: Years of BAD GOVERNMENT, such a sorry thing to see! https://t.co/H1r2Be2YS6 {'neg': 0.368, 'neu': 0.632, 'pos': 0.0, 'compound': -0.7027}\n",
      "RT @realDonaldTrump: “About 500,000 human beings were killed in Syria while Barack Obama was president &amp; leading for a “political settlemen… {'neg': 0.191, 'neu': 0.809, 'pos': 0.0, 'compound': -0.6705}\n",
      "RT @realDonaldTrump: I am the only person who can fight for the safety of our troops &amp; bring them home from the ridiculous &amp; costly Endless… {'neg': 0.215, 'neu': 0.693, 'pos': 0.092, 'compound': -0.4019}\n"
     ]
    },
    {
     "name": "stdout",
     "output_type": "stream",
     "text": [
      "My warmest condolences to the family and many friends of Congressman Elijah Cummings. I got to see first hand the s… https://t.co/IVXZYgOkyg {'neg': 0.0, 'neu': 0.667, 'pos': 0.333, 'compound': 0.8402}\n",
      "RT @realDonaldTrump: THANK YOU, WORKING HARD! https://t.co/sNUppjB4Xm {'neg': 0.2, 'neu': 0.469, 'pos': 0.331, 'compound': 0.3382}\n",
      "RT @realDonaldTrump: FAKE NEWS! https://t.co/ta8ii8yetP---------- {'neg': 0.508, 'neu': 0.492, 'pos': 0.0, 'compound': -0.628}\n",
      "RT @realDonaldTrump: Nancy Pelosi needs help fast! There is either something wrong with her “upstairs,” or she just plain doesn’t like our… {'neg': 0.112, 'neu': 0.689, 'pos': 0.199, 'compound': 0.3382}\n",
      "This is the real story. Thank you Jim! https://t.co/VqJrsUJdiX--- {'neg': 0.0, 'neu': 0.741, 'pos': 0.259, 'compound': 0.4199}\n",
      "RT @senatemajldr: Washington Democrats have been engaged in a three-year-long impeachment parade in search of a rationale. Prominent House… {'neg': 0.0, 'neu': 0.75, 'pos': 0.25, 'compound': 0.6124}\n",
      "RT @senatemajldr: Already, House Democrats’ impeachment “inquiry” is violating norms and precedent. They are denying Republicans and Presid… {'neg': 0.269, 'neu': 0.731, 'pos': 0.0, 'compound': -0.7096}\n",
      "RT @senatemajldr: Speaker Pelosi is still blocking the USMCA, a major trade deal that would create 176,000 new American jobs. Senate Democr… {'neg': 0.11, 'neu': 0.802, 'pos': 0.089, 'compound': -0.128}\n",
      "I am the only person who can fight for the safety of our troops &amp; bring them home from the ridiculous &amp; costly Endl… https://t.co/Myfg3mkPGS {'neg': 0.222, 'neu': 0.683, 'pos': 0.096, 'compound': -0.4019}\n",
      "“About 500,000 human beings were killed in Syria while Barack Obama was president &amp; leading for a “political settle… https://t.co/77ONloetaY {'neg': 0.2, 'neu': 0.8, 'pos': 0.0, 'compound': -0.6705}\n",
      "RT @RepThomasMassie: Congress never voted to send troops to Syria, but in five minutes we will be voting on a resolution that disapproves o… {'neg': 0.0, 'neu': 1.0, 'pos': 0.0, 'compound': 0.0}\n",
      "RT @SteveScalise: People all across the country should be alarmed.\n",
      "\n",
      "Pelosi and Schiff are trying to impeach @realDonaldTrump behind closed… {'neg': 0.112, 'neu': 0.888, 'pos': 0.0, 'compound': -0.34}\n",
      "https://t.co/ZtCSrCqJcN------------------------------------------ {'neg': 0.0, 'neu': 1.0, 'pos': 0.0, 'compound': 0.0}\n",
      "Hope all House Republicans, and honest House Democrats, will vote to CENSURE Rep. Adam Schiff tomorrow for his braz… https://t.co/UTBkc10nhf {'neg': 0.0, 'neu': 0.744, 'pos': 0.256, 'compound': 0.7351}\n",
      "Years of BAD GOVERNMENT, such a sorry thing to see! https://t.co/H1r2Be2YS6 {'neg': 0.421, 'neu': 0.579, 'pos': 0.0, 'compound': -0.7027}\n",
      "“What has happened here with the Anthony Wiener laptop, the Server, all of the Emails between Huma Abedin and Hilla… https://t.co/ELyAWDQbdb {'neg': 0.0, 'neu': 1.0, 'pos': 0.0, 'compound': 0.0}\n",
      "THANK YOU you Dallas, Texas. See you tomorrow night at the American Airlines Center! #TRUMP2020 https://t.co/fbtzlbroQi {'neg': 0.0, 'neu': 0.81, 'pos': 0.19, 'compound': 0.5461}\n",
      "“This President is the most patriotic President I’ve seen in many years. He is going to do what is good for America… https://t.co/2JbKc2WqXK {'neg': 0.0, 'neu': 0.884, 'pos': 0.116, 'compound': 0.4404}\n",
      "Nancy Pelosi needs help fast! There is either something wrong with her “upstairs,” or she just plain doesn’t like o… https://t.co/X481eoECXa {'neg': 0.117, 'neu': 0.677, 'pos': 0.207, 'compound': 0.3382}\n",
      "RT @realDonaldTrump: 95% Approval Rating in the Republican Party. Thank you! Just won two Congressional Seats in North Carolina,  &amp; a Gover… {'neg': 0.0, 'neu': 0.58, 'pos': 0.42, 'compound': 0.906}\n",
      "The Do Nothing Democrats, Pelosi and Schumer stormed out of the Cabinet Room! https://t.co/hmP4FNhemv {'neg': 0.0, 'neu': 1.0, 'pos': 0.0, 'compound': 0.0}\n",
      "Nervous Nancy's unhinged meltdown! https://t.co/RDeUI7sfe7------- {'neg': 0.374, 'neu': 0.626, 'pos': 0.0, 'compound': -0.3382}\n",
      "Do you think they like me? https://t.co/TDmUnJ8HtF--------------- {'neg': 0.0, 'neu': 0.706, 'pos': 0.294, 'compound': 0.3612}\n",
      "RT @PressSec: .@realDonaldTrump was measured &amp; decisive today. @SpeakerPelosi walking out was baffling but not surprising w NO intention of… {'neg': 0.097, 'neu': 0.701, 'pos': 0.201, 'compound': 0.3345}\n",
      "I’m fighting for the American people, but the Democrats’ sole focus is fighting against ME with their fraudulent Wi… https://t.co/8P09w45uGC {'neg': 0.354, 'neu': 0.646, 'pos': 0.0, 'compound': -0.8519}\n",
      "FAKE NEWS! https://t.co/ta8ii8yetP------------------------------- {'neg': 0.673, 'neu': 0.327, 'pos': 0.0, 'compound': -0.628}\n",
      "THANK YOU, WORKING HARD! https://t.co/sNUppjB4Xm----------------- {'neg': 0.246, 'neu': 0.347, 'pos': 0.407, 'compound': 0.3382}\n",
      "https://t.co/O8E3i8kJwS------------------------------------------ {'neg': 0.0, 'neu': 1.0, 'pos': 0.0, 'compound': 0.0}\n",
      "Guatemala, Honduras &amp; El Salvador have all signed historic Asylum Cooperation Agreements and are working to end the… https://t.co/yD17W9yoC2 {'neg': 0.0, 'neu': 0.896, 'pos': 0.104, 'compound': 0.2732}\n",
      "Senator Rand Paul just wrote a great book, “The Case Against Socialism” which is now out. Highly recommended – as A… https://t.co/GblFOclQdM {'neg': 0.0, 'neu': 0.744, 'pos': 0.256, 'compound': 0.7346}\n",
      "Republicans are totally deprived of their rights in this Impeachment Witch Hunt. No lawyers, no questions, no trans… https://t.co/Qd968Gn6bI {'neg': 0.472, 'neu': 0.528, 'pos': 0.0, 'compound': -0.8883}\n",
      "Our record Economy would CRASH, just like in 1929, if any of those clowns became President! {'neg': 0.184, 'neu': 0.692, 'pos': 0.124, 'compound': -0.3016}\n",
      "95% Approval Rating in the Republican Party. Thank you! Just won two Congressional Seats in North Carolina,  &amp; a Go… https://t.co/XOLNddjsgk {'neg': 0.0, 'neu': 0.566, 'pos': 0.434, 'compound': 0.906}\n",
      "“What is happening to President Trump with Impeachment is a Constitutional Travesty.” @GrahamLedger  The likes of w… https://t.co/iXGclnCzpW {'neg': 0.0, 'neu': 0.851, 'pos': 0.149, 'compound': 0.4215}\n",
      "You would think there is NO WAY that any of the Democrat Candidates that we witnessed last night could possibly bec… https://t.co/uDW9RUcdZR {'neg': 0.123, 'neu': 0.877, 'pos': 0.0, 'compound': -0.4466}\n",
      "We now have the greatest Economy in history! https://t.co/8fLOejOpxH {'neg': 0.0, 'neu': 0.64, 'pos': 0.36, 'compound': 0.6696}\n",
      "A great group of Champions! https://t.co/A2ux83427l-------------- {'neg': 0.0, 'neu': 0.278, 'pos': 0.722, 'compound': 0.8313}\n",
      "Looks good to me! https://t.co/3aHn7y3ZxI------------------------ {'neg': 0.0, 'neu': 0.556, 'pos': 0.444, 'compound': 0.4926}\n",
      "RT @realDonaldTrump: Just out: MEDIAN HOUSEHOLD INCOME IS AT THE HIGHEST POINT EVER, EVER, EVER! How about saying it this way, IN THE HISTO… {'neg': 0.0, 'neu': 1.0, 'pos': 0.0, 'compound': 0.0}\n",
      "RT @realDonaldTrump: Democrats are allowing no transparency at the Witch Hunt hearings. If Republicans ever did this they would be excoriat… {'neg': 0.198, 'neu': 0.802, 'pos': 0.0, 'compound': -0.5719}\n",
      "RT @CortesSteve: As Hispanic Heritage Month wraps up, please see my interview with ⁦@LaraLeaTrump⁩ about the #TrumpBoom and the benefits fo… {'neg': 0.0, 'neu': 0.795, 'pos': 0.205, 'compound': 0.5994}\n",
      "RT @CLewandowski_: Great new book just released by ⁦@RandPaul⁩. The Case Against Socialism - Rand Paul - Hardcover. Pick up your copy today… {'neg': 0.0, 'neu': 0.83, 'pos': 0.17, 'compound': 0.6249}\n",
      ".... It also brings Shifty’s fraudulent MADE UP CALL, which he read to the United States Congress pretending it to… https://t.co/35xVX2E90u {'neg': 0.126, 'neu': 0.709, 'pos': 0.165, 'compound': -0.0}\n",
      "Shifty Adam Schiff wants to rest his entire case on a Whistleblower who he now says can’t testify, &amp; the reason he… https://t.co/n8QdZpH8Q4 {'neg': 0.0, 'neu': 1.0, 'pos': 0.0, 'compound': 0.0}\n",
      "https://t.co/Kj1LtwYSXa https://t.co/YgXImlvOYd------------------ {'neg': 0.0, 'neu': 1.0, 'pos': 0.0, 'compound': 0.0}\n",
      "The @StLouisBlues amazing comeback reminds us to never give up – and never lose faith. When you work hard, support… https://t.co/g68uGs3i2R {'neg': 0.145, 'neu': 0.62, 'pos': 0.235, 'compound': 0.5149}\n",
      "Congratulations @StLouisBlues! \n",
      "https://t.co/WjlWYFuiE6---------- {'neg': 0.0, 'neu': 0.323, 'pos': 0.677, 'compound': 0.636}\n",
      "Now that we have found out that @CNN is a virtual fraud, rumor has it that Jeff Zucker will be resigining momentarily? {'neg': 0.16, 'neu': 0.84, 'pos': 0.0, 'compound': -0.5859}\n",
      "Join me in Dallas, Texas this Thursday (October 17th) at the American Airlines Center! #KAG2020\n",
      "\n",
      "Tickets:… https://t.co/kEzQhhFyWb {'neg': 0.0, 'neu': 0.865, 'pos': 0.135, 'compound': 0.3595}\n",
      "....He loves our Military and supports our Vets! Get out and Vote for Tate Reeves on November 5th. He has my Complete and Total Endorsement! {'neg': 0.0, 'neu': 0.708, 'pos': 0.292, 'compound': 0.8436}\n"
     ]
    }
   ],
   "source": [
    "sentiment_trump=0\n",
    "for sentence in df2['Message']:\n",
    "    vs = analyzer.polarity_scores(sentence)\n",
    "    sentiment_trump=sentiment_trump+vs['compound']\n",
    "    print(\"{:-<65} {}\".format(sentence, str(vs)))"
   ]
  },
  {
   "cell_type": "markdown",
   "metadata": {},
   "source": [
    "## Average sentiment for Donald trump"
   ]
  },
  {
   "cell_type": "code",
   "execution_count": 37,
   "metadata": {},
   "outputs": [
    {
     "data": {
      "text/plain": [
       "0.06802110552763818"
      ]
     },
     "execution_count": 37,
     "metadata": {},
     "output_type": "execute_result"
    }
   ],
   "source": [
    "sentiment_trump/len(df2['Message'])"
   ]
  },
  {
   "cell_type": "markdown",
   "metadata": {},
   "source": [
    "We see Trump's sentiment is quite negative as compared to Bill gates"
   ]
  },
  {
   "cell_type": "code",
   "execution_count": 38,
   "metadata": {},
   "outputs": [
    {
     "name": "stdout",
     "output_type": "stream",
     "text": [
      "0.18674699999999997\n"
     ]
    }
   ],
   "source": [
    "combined_sentiment=(sentiment_bill/200+sentiment_trump/200)/2\n",
    "print(combined_sentiment)"
   ]
  },
  {
   "cell_type": "code",
   "execution_count": null,
   "metadata": {},
   "outputs": [],
   "source": []
  }
 ],
 "metadata": {
  "kernelspec": {
   "display_name": "Python 3",
   "language": "python",
   "name": "python3"
  },
  "language_info": {
   "codemirror_mode": {
    "name": "ipython",
    "version": 3
   },
   "file_extension": ".py",
   "mimetype": "text/x-python",
   "name": "python",
   "nbconvert_exporter": "python",
   "pygments_lexer": "ipython3",
   "version": "3.7.3"
  }
 },
 "nbformat": 4,
 "nbformat_minor": 2
}
